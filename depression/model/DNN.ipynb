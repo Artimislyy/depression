{
 "cells": [
  {
   "cell_type": "code",
   "execution_count": 1,
   "metadata": {},
   "outputs": [],
   "source": [
    "from tensorflow.keras.callbacks import Callback\n",
    "import pandas as pd\n",
    "import random \n",
    "import numpy as np\n",
    "import math\n",
    "from matplotlib import pyplot as plt\n",
    "from matplotlib.pylab import mpl\n",
    "import tensorflow as tf\n",
    "from sklearn.preprocessing import MinMaxScaler,StandardScaler\n",
    "from tensorflow.keras import backend as K\n",
    "from tensorflow.keras.layers import LeakyReLU,Conv1D,Dense\n",
    "from tcn import TCN,tcn_full_summary\n",
    "from sklearn.metrics import mean_squared_error # 均方误差\n",
    "from tensorflow.keras.callbacks import LearningRateScheduler\n",
    "from tensorflow.keras.callbacks import EarlyStopping\n",
    "from tensorflow.keras import Input,Model,Sequential"
   ]
  },
  {
   "cell_type": "markdown",
   "metadata": {},
   "source": [
    "# 验证集"
   ]
  },
  {
   "cell_type": "markdown",
   "metadata": {},
   "source": [
    "### 音频"
   ]
  },
  {
   "cell_type": "code",
   "execution_count": 2,
   "metadata": {},
   "outputs": [],
   "source": [
    "def rmse(y_pred, y_true):\n",
    "    return K.sqrt(K.mean(K.square(y_pred - y_true)))"
   ]
  },
  {
   "cell_type": "code",
   "execution_count": 3,
   "metadata": {},
   "outputs": [],
   "source": [
    "audio_tcn = tf.keras.models.load_model('audio_3.h5',custom_objects={'TCN':TCN,'rmse':rmse})"
   ]
  },
  {
   "cell_type": "code",
   "execution_count": 4,
   "metadata": {},
   "outputs": [],
   "source": [
    "audio_path = 'audio_dev.csv'\n",
    "audio_df = pd.read_csv(audio_path,index_col=0)"
   ]
  },
  {
   "cell_type": "code",
   "execution_count": 5,
   "metadata": {},
   "outputs": [],
   "source": [
    "audio_X_Test=audio_df.iloc[:,:-1]\n",
    "audio_Y_test=audio_df.iloc[:,-1:]"
   ]
  },
  {
   "cell_type": "code",
   "execution_count": 6,
   "metadata": {},
   "outputs": [],
   "source": [
    "# audio_df = audio_df.iloc[:,:-1]\n",
    "# audio_scaler = MinMaxScaler(feature_range=(-1,1)).fit(audio_df)\n",
    "# audio_X_test=pd.DataFrame(audio_scaler.transform(audio_X_Test))"
   ]
  },
  {
   "cell_type": "code",
   "execution_count": 7,
   "metadata": {},
   "outputs": [],
   "source": [
    "audio_X_test = audio_X_Test"
   ]
  },
  {
   "cell_type": "code",
   "execution_count": 8,
   "metadata": {},
   "outputs": [],
   "source": [
    "audio_x_test=audio_X_test.values.reshape([audio_X_test.shape[0],1,audio_X_test.shape[1]])  \n",
    "audio_y_test=audio_Y_test.values"
   ]
  },
  {
   "cell_type": "code",
   "execution_count": 9,
   "metadata": {},
   "outputs": [],
   "source": [
    "audio_predict = audio_tcn.predict(audio_x_test)\n",
    "audio_real_y = audio_y_test"
   ]
  },
  {
   "cell_type": "markdown",
   "metadata": {},
   "source": [
    "### 面部"
   ]
  },
  {
   "cell_type": "code",
   "execution_count": 11,
   "metadata": {},
   "outputs": [],
   "source": [
    "vidio_tcn = tf.keras.models.load_model('vidio_1.h5',custom_objects={'TCN':TCN,'rmse':rmse})"
   ]
  },
  {
   "cell_type": "code",
   "execution_count": 12,
   "metadata": {},
   "outputs": [],
   "source": [
    "vidio_path = 'vidio_dev.csv'\n",
    "vidio_df = pd.read_csv(vidio_path,index_col=0)"
   ]
  },
  {
   "cell_type": "code",
   "execution_count": 13,
   "metadata": {},
   "outputs": [],
   "source": [
    "vidio_X_Test=vidio_df.iloc[:,:-1]\n",
    "vidio_Y_test=vidio_df.iloc[:,-1:]"
   ]
  },
  {
   "cell_type": "code",
   "execution_count": null,
   "metadata": {},
   "outputs": [],
   "source": [
    "# vidio_df = vidio_df.iloc[:,:-1]\n",
    "# vidio_scaler = MinMaxScaler(feature_range=(-1,1)).fit(vidio_df)\n",
    "# vidio_X_test=pd.DataFrame(vidio_scaler.transform(vidio_X_Test))"
   ]
  },
  {
   "cell_type": "code",
   "execution_count": 14,
   "metadata": {},
   "outputs": [],
   "source": [
    "vidio_X_test = vidio_X_Test"
   ]
  },
  {
   "cell_type": "code",
   "execution_count": 15,
   "metadata": {},
   "outputs": [],
   "source": [
    "vidio_x_test=vidio_X_test.values.reshape([vidio_X_test.shape[0],1,vidio_X_test.shape[1]])  \n",
    "vidio_y_test=vidio_Y_test.values"
   ]
  },
  {
   "cell_type": "code",
   "execution_count": 16,
   "metadata": {},
   "outputs": [],
   "source": [
    "vidio_predict = vidio_tcn.predict(vidio_x_test)\n",
    "vidio_real_y = vidio_y_test"
   ]
  },
  {
   "cell_type": "markdown",
   "metadata": {},
   "source": [
    "# 决策融合"
   ]
  },
  {
   "cell_type": "code",
   "execution_count": 77,
   "metadata": {},
   "outputs": [
    {
     "name": "stdout",
     "output_type": "stream",
     "text": [
      "[5.37623908]\n",
      "[5.37623908]\n",
      "[5.37623908]\n",
      "[5.37623908]\n",
      "[5.37623908]\n",
      "[5.69129811]\n",
      "[5.04650814]\n",
      "[5.04650814]\n",
      "[5.04650814]\n",
      "[5.04650814]\n",
      "[5.04650814]\n",
      "[5.04650814]\n",
      "[5.04650814]\n",
      "[5.04650814]\n",
      "[5.04650814]\n",
      "[5.04650814]\n",
      "[4.72569637]\n",
      "[4.72569637]\n",
      "[4.72569637]\n",
      "[4.72569637]\n",
      "[4.72569637]\n",
      "[4.72569637]\n",
      "[4.72569637]\n",
      "[4.72569637]\n",
      "[4.72569637]\n",
      "[4.72569637]\n",
      "[4.42053142]\n",
      "[4.42053142]\n",
      "[4.42053142]\n",
      "[4.42053142]\n",
      "[4.42053142]\n",
      "[4.42053142]\n",
      "[4.42053142]\n",
      "[4.42053142]\n",
      "[4.42053142]\n",
      "[4.42053142]\n",
      "[4.16628632]\n",
      "[4.16628632]\n",
      "[4.16628632]\n",
      "[4.16628632]\n",
      "[4.16628632]\n",
      "[4.16628632]\n",
      "[4.16628632]\n",
      "[4.16628632]\n",
      "[4.16628632]\n",
      "[4.16628632]\n",
      "[3.9350548]\n",
      "[3.9350548]\n",
      "[3.9350548]\n",
      "[3.9350548]\n",
      "[3.9350548]\n",
      "[3.9350548]\n",
      "[3.9350548]\n",
      "[3.9350548]\n",
      "[3.9350548]\n",
      "[3.9350548]\n",
      "[3.75941369]\n",
      "[3.75941369]\n",
      "[3.75941369]\n",
      "[3.75941369]\n",
      "[3.75941369]\n",
      "[3.75941369]\n",
      "[3.75941369]\n",
      "[3.75941369]\n",
      "[3.75941369]\n",
      "[3.75941369]\n",
      "[3.6300975]\n",
      "[3.6300975]\n",
      "[3.6300975]\n",
      "[3.6300975]\n",
      "[3.6300975]\n",
      "[3.6300975]\n",
      "[3.6300975]\n",
      "[3.6300975]\n",
      "[3.6300975]\n",
      "[3.6300975]\n",
      "[3.50406596]\n",
      "[3.50406596]\n",
      "[3.50406596]\n",
      "[3.50406596]\n",
      "[3.50406596]\n",
      "[3.50406596]\n",
      "[3.50406596]\n",
      "[3.50406596]\n",
      "[3.50406596]\n",
      "[3.50406596]\n",
      "[3.39338042]\n",
      "[3.39338042]\n",
      "[3.39338042]\n",
      "[3.39338042]\n"
     ]
    }
   ],
   "source": [
    "w1,w2 = 0,0\n",
    "minn = 100\n",
    "for i in np.arange(0.1,1,0.01):\n",
    "    a = round(i,1)\n",
    "    b = round(1-i,1)\n",
    "    c = audio_predict * a + vidio_predict * b\n",
    "    x = sum(abs(c - vidio_real_y))/vidio_real_y.shape[0]\n",
    "#     print(x)\n",
    "    if(minn>x):\n",
    "        minn = x\n",
    "        w1,w2 = a,b"
   ]
  },
  {
   "cell_type": "code",
   "execution_count": 78,
   "metadata": {},
   "outputs": [
    {
     "data": {
      "text/plain": [
       "(1.0, 0.0)"
      ]
     },
     "execution_count": 78,
     "metadata": {},
     "output_type": "execute_result"
    }
   ],
   "source": [
    "w1,w2"
   ]
  },
  {
   "cell_type": "code",
   "execution_count": 79,
   "metadata": {},
   "outputs": [
    {
     "data": {
      "text/plain": [
       "array([3.39338042])"
      ]
     },
     "execution_count": 79,
     "metadata": {},
     "output_type": "execute_result"
    }
   ],
   "source": [
    "minn"
   ]
  },
  {
   "cell_type": "code",
   "execution_count": null,
   "metadata": {},
   "outputs": [],
   "source": []
  }
 ],
 "metadata": {
  "kernelspec": {
   "display_name": "Python 3",
   "language": "python",
   "name": "python3"
  },
  "language_info": {
   "codemirror_mode": {
    "name": "ipython",
    "version": 3
   },
   "file_extension": ".py",
   "mimetype": "text/x-python",
   "name": "python",
   "nbconvert_exporter": "python",
   "pygments_lexer": "ipython3",
   "version": "3.8.3"
  }
 },
 "nbformat": 4,
 "nbformat_minor": 4
}
