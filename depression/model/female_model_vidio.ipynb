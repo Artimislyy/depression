{
 "cells": [
  {
   "cell_type": "code",
   "execution_count": 1,
   "metadata": {},
   "outputs": [],
   "source": [
    "from tensorflow.keras.callbacks import Callback\n",
    "import pandas as pd\n",
    "import random \n",
    "import numpy as np\n",
    "import math\n",
    "from matplotlib import pyplot as plt\n",
    "from matplotlib.pylab import mpl\n",
    "import tensorflow as tf\n",
    "from sklearn.preprocessing import MinMaxScaler,StandardScaler\n",
    "from tensorflow.keras import backend as K\n",
    "from tensorflow.keras.layers import LeakyReLU,Conv1D,Dense\n",
    "from tcn import TCN,tcn_full_summary\n",
    "from sklearn.metrics import mean_squared_error # 均方误差\n",
    "from tensorflow.keras.callbacks import LearningRateScheduler\n",
    "from tensorflow.keras.callbacks import EarlyStopping\n",
    "from tensorflow.keras import Input,Model,Sequential\n",
    "from tensorflow.keras.callbacks import ModelCheckpoint"
   ]
  },
  {
   "cell_type": "code",
   "execution_count": 2,
   "metadata": {},
   "outputs": [],
   "source": [
    "my_seed = 666\n",
    "np.random.seed(my_seed)\n",
    "random.seed(my_seed)\n",
    "tf.random.set_seed(my_seed)"
   ]
  },
  {
   "cell_type": "code",
   "execution_count": 3,
   "metadata": {},
   "outputs": [],
   "source": [
    "female_train_vidio_path = 'H:/data/vidio_data/female_train_D_feature/female_train_D_vidio.csv'\n",
    "female_dev_vidio_path = 'H:/dev_data/vidio_data/female_dev_D_feature/female_dev_D_vidio.csv'\n",
    "female_dev_vidio_path2 = 'H:/dev_data/vidio_data/female_dev_ND_feature/female_dev_ND_vidio.csv'\n",
    "female_train_vidio_path2 = 'H:/data/vidio_data/female_train_ND_feature/female_train_ND_vidio.csv'\n",
    "\n",
    "male_train_vidio_path = 'H:/data/vidio_data/male_train_D_feature/male_train_D_vidio.csv'\n",
    "male_dev_vidio_path = 'H:/dev_data/vidio_data/male_dev_D_feature/male_dev_D_vidio.csv'\n",
    "male_dev_vidio_path2 = 'H:/dev_data/vidio_data/male_dev_ND_feature/male_dev_ND_vidio.csv'\n",
    "male_train_vidio_path2 = 'H:/data/vidio_data/male_train_ND_feature/male_train_ND_vidio.csv'\n",
    "\n",
    "df1 = pd.read_csv(female_train_vidio_path,index_col=0)\n",
    "df2 = pd.read_csv(female_dev_vidio_path,index_col=0)\n",
    "df3 = pd.read_csv(female_dev_vidio_path2,index_col=0)\n",
    "df4 = pd.read_csv(female_train_vidio_path2,index_col=0)\n",
    "\n",
    "df5 = pd.read_csv(male_train_vidio_path,index_col=0)\n",
    "df6 = pd.read_csv(male_dev_vidio_path,index_col=0)\n",
    "df7 = pd.read_csv(male_dev_vidio_path2,index_col=0)\n",
    "df8 = pd.read_csv(male_train_vidio_path2,index_col=0)\n",
    "\n",
    "df = pd.concat([df1,df2,df3,df4,df5,df6,df7,df8],ignore_index=True)\n",
    "df = df.sample(frac=1.0).reset_index(drop=True)"
   ]
  },
  {
   "cell_type": "code",
   "execution_count": 4,
   "metadata": {},
   "outputs": [],
   "source": [
    "len1 = int(df.shape[0]*0.9)\n",
    "train=df[:len1]\n",
    "test=df[len1:]\n",
    "\n",
    "#不对y进行归一化\n",
    "X_train=train.iloc[:,:-1]\n",
    "Y_train=train.iloc[:,-1:]\n",
    "X_test=test.iloc[:,:-1]\n",
    "Y_test=test.iloc[:,-1:]"
   ]
  },
  {
   "cell_type": "code",
   "execution_count": 5,
   "metadata": {},
   "outputs": [],
   "source": [
    "# 标准化\n",
    "# scaler = StandardScaler().fit(X_Train)\n",
    "# X_train = pd.DataFrame(scaler.transform(X_Train))\n",
    "# X_test = pd.DataFrame(scaler.transform(X_Test))\n",
    "# #归一化\n",
    "df = df.iloc[:,:-1]\n",
    "scaler = MinMaxScaler(feature_range=(0,1)).fit(df)\n",
    "X_train=pd.DataFrame(scaler.fit_transform(X_train))\n",
    "X_test=pd.DataFrame(scaler.transform(X_test))"
   ]
  },
  {
   "cell_type": "code",
   "execution_count": 6,
   "metadata": {},
   "outputs": [
    {
     "data": {
      "text/html": [
       "<div>\n",
       "<style scoped>\n",
       "    .dataframe tbody tr th:only-of-type {\n",
       "        vertical-align: middle;\n",
       "    }\n",
       "\n",
       "    .dataframe tbody tr th {\n",
       "        vertical-align: top;\n",
       "    }\n",
       "\n",
       "    .dataframe thead th {\n",
       "        text-align: right;\n",
       "    }\n",
       "</style>\n",
       "<table border=\"1\" class=\"dataframe\">\n",
       "  <thead>\n",
       "    <tr style=\"text-align: right;\">\n",
       "      <th></th>\n",
       "      <th>4080</th>\n",
       "    </tr>\n",
       "  </thead>\n",
       "  <tbody>\n",
       "    <tr>\n",
       "      <th>0</th>\n",
       "      <td>0.0</td>\n",
       "    </tr>\n",
       "    <tr>\n",
       "      <th>1</th>\n",
       "      <td>10.0</td>\n",
       "    </tr>\n",
       "    <tr>\n",
       "      <th>2</th>\n",
       "      <td>3.0</td>\n",
       "    </tr>\n",
       "    <tr>\n",
       "      <th>3</th>\n",
       "      <td>3.0</td>\n",
       "    </tr>\n",
       "    <tr>\n",
       "      <th>4</th>\n",
       "      <td>16.0</td>\n",
       "    </tr>\n",
       "    <tr>\n",
       "      <th>5</th>\n",
       "      <td>9.0</td>\n",
       "    </tr>\n",
       "    <tr>\n",
       "      <th>6</th>\n",
       "      <td>12.0</td>\n",
       "    </tr>\n",
       "    <tr>\n",
       "      <th>7</th>\n",
       "      <td>11.0</td>\n",
       "    </tr>\n",
       "    <tr>\n",
       "      <th>8</th>\n",
       "      <td>18.0</td>\n",
       "    </tr>\n",
       "    <tr>\n",
       "      <th>9</th>\n",
       "      <td>7.0</td>\n",
       "    </tr>\n",
       "  </tbody>\n",
       "</table>\n",
       "</div>"
      ],
      "text/plain": [
       "   4080\n",
       "0   0.0\n",
       "1  10.0\n",
       "2   3.0\n",
       "3   3.0\n",
       "4  16.0\n",
       "5   9.0\n",
       "6  12.0\n",
       "7  11.0\n",
       "8  18.0\n",
       "9   7.0"
      ]
     },
     "execution_count": 6,
     "metadata": {},
     "output_type": "execute_result"
    }
   ],
   "source": [
    "Y_test = Y_test.reset_index(drop=True)\n",
    "Y_test.head(10)"
   ]
  },
  {
   "cell_type": "code",
   "execution_count": 7,
   "metadata": {},
   "outputs": [],
   "source": [
    "vidio_dev = pd.concat([X_test,Y_test],ignore_index=True,axis=1)\n",
    "# vidio_dev.to_csv(\"vidio_dev.csv\")"
   ]
  },
  {
   "cell_type": "code",
   "execution_count": 8,
   "metadata": {},
   "outputs": [],
   "source": [
    "x_train=X_train.values.reshape([X_train.shape[0],1,X_train.shape[1]]) \n",
    "y_train=Y_train.values\n",
    "x_test=X_test.values.reshape([X_test.shape[0],1,X_test.shape[1]])  \n",
    "y_test=Y_test.values"
   ]
  },
  {
   "cell_type": "code",
   "execution_count": 9,
   "metadata": {},
   "outputs": [
    {
     "data": {
      "text/plain": [
       "((520, 1, 4080), (520, 1), (58, 1, 4080), (58, 1))"
      ]
     },
     "execution_count": 9,
     "metadata": {},
     "output_type": "execute_result"
    }
   ],
   "source": [
    "x_train.shape,y_train.shape,x_test.shape,y_test.shape"
   ]
  },
  {
   "cell_type": "code",
   "execution_count": 10,
   "metadata": {},
   "outputs": [],
   "source": [
    "def rmse(y_pred, y_true):\n",
    "    return K.sqrt(K.mean(K.square(y_pred - y_true)))"
   ]
  },
  {
   "cell_type": "code",
   "execution_count": 11,
   "metadata": {},
   "outputs": [
    {
     "name": "stdout",
     "output_type": "stream",
     "text": [
      "Model: \"sequential\"\n",
      "_________________________________________________________________\n",
      "Layer (type)                 Output Shape              Param #   \n",
      "=================================================================\n",
      "tcn (TCN)                    (None, 32)                407328    \n",
      "_________________________________________________________________\n",
      "dense (Dense)                (None, 1)                 33        \n",
      "=================================================================\n",
      "Total params: 407,361\n",
      "Trainable params: 406,849\n",
      "Non-trainable params: 512\n",
      "_________________________________________________________________\n"
     ]
    }
   ],
   "source": [
    "batch_size=None\n",
    "timesteps=x_train.shape[1]\n",
    "input_dim=x_train.shape[2] #输入维数\n",
    "tcn = Sequential()\n",
    "input_layer =Input(batch_shape=(batch_size,timesteps,input_dim))\n",
    "tcn.add(input_layer)\n",
    "tcn.add(TCN(nb_filters=32, #在卷积层中使用的过滤器数。可以是列表。\n",
    "        kernel_size=2, #在每个卷积层中使用的内核大小。\n",
    "        nb_stacks=1,   #要使用的残差块的堆栈数。\n",
    "        dilations=[2 ** i for i in range(4)], #扩张列表。示例为：[1、2、4、8、16、32、64]。\n",
    "        #用于卷积层中的填充,值为'causal' 或'same'。\n",
    "        #“causal”将产生因果（膨胀的）卷积，即output[t]不依赖于input[t+1：]。当对不能违反时间顺序的时序信号建模时有用。\n",
    "        #“same”代表保留边界处的卷积结果，通常会导致输出shape与输入shape相同。\n",
    "        padding='causal',\n",
    "        use_skip_connections=True, #是否要添加从输入到每个残差块的跳过连接。\n",
    "        dropout_rate=0.3, #在0到1之间浮动。要下降的输入单位的分数。\n",
    "        return_sequences=False,#是返回输出序列中的最后一个输出还是完整序列。\n",
    "        activation='relu', #残差块中使用的激活函数 o = Activation(x + F(x)).\n",
    "        kernel_initializer='he_normal', #内核权重矩阵（Conv1D）的初始化程序。\n",
    "        use_batch_norm=True, #是否在残差层中使用批处理规范化。\n",
    "#         use_layer_norm=False, #是否在残差层中使用层归一化。\n",
    "        name='tcn' #使用多个TCN时，要使用唯一的名称\n",
    "        ))\n",
    "tcn.add(tf.keras.layers.Dense(1))\n",
    "tcn.compile('adam', loss=rmse, metrics=['mae'])\n",
    "tcn.summary()"
   ]
  },
  {
   "cell_type": "code",
   "execution_count": 12,
   "metadata": {},
   "outputs": [
    {
     "name": "stdout",
     "output_type": "stream",
     "text": [
      "WARNING:tensorflow:`period` argument is deprecated. Please use `save_freq` to specify the frequency in number of batches seen.\n",
      "Epoch 1/100\n",
      "5/5 [==============================] - 0s 67ms/step - loss: 11.3265 - mae: 9.6154 - val_loss: 14.6437 - val_mae: 13.2289\n",
      "Epoch 2/100\n",
      "1/5 [=====>........................] - ETA: 0s - loss: 11.5539 - mae: 9.7801\n",
      "Epoch 00002: val_mae improved from inf to 14.21933, saving model to vidio_1.h5\n",
      "5/5 [==============================] - 0s 22ms/step - loss: 11.0228 - mae: 9.3020 - val_loss: 15.5396 - val_mae: 14.2193\n",
      "Epoch 3/100\n",
      "5/5 [==============================] - 0s 10ms/step - loss: 10.7686 - mae: 9.0284 - val_loss: 15.6314 - val_mae: 14.3308\n",
      "Epoch 4/100\n",
      "1/5 [=====>........................] - ETA: 0s - loss: 10.1065 - mae: 8.4361\n",
      "Epoch 00004: val_mae improved from 14.21933 to 13.65273, saving model to vidio_1.h5\n",
      "5/5 [==============================] - 0s 22ms/step - loss: 10.4629 - mae: 8.6933 - val_loss: 14.9911 - val_mae: 13.6527\n",
      "Epoch 5/100\n",
      "5/5 [==============================] - 0s 11ms/step - loss: 10.0937 - mae: 8.4094 - val_loss: 14.2933 - val_mae: 12.8828\n",
      "Epoch 6/100\n",
      "1/5 [=====>........................] - ETA: 0s - loss: 9.8966 - mae: 7.9322\n",
      "Epoch 00006: val_mae improved from 13.65273 to 12.20081, saving model to vidio_1.h5\n",
      "5/5 [==============================] - 0s 22ms/step - loss: 9.8002 - mae: 8.0421 - val_loss: 13.7029 - val_mae: 12.2008\n",
      "Epoch 7/100\n",
      "5/5 [==============================] - 0s 11ms/step - loss: 9.5139 - mae: 7.7797 - val_loss: 12.7720 - val_mae: 11.1770\n",
      "Epoch 8/100\n",
      "1/5 [=====>........................] - ETA: 0s - loss: 9.7413 - mae: 8.0399\n",
      "Epoch 00008: val_mae improved from 12.20081 to 10.10942, saving model to vidio_1.h5\n",
      "5/5 [==============================] - 0s 23ms/step - loss: 9.1288 - mae: 7.4890 - val_loss: 11.7834 - val_mae: 10.1094\n",
      "Epoch 9/100\n",
      "5/5 [==============================] - 0s 11ms/step - loss: 8.9736 - mae: 7.2964 - val_loss: 11.4710 - val_mae: 9.7679\n",
      "Epoch 10/100\n",
      "1/5 [=====>........................] - ETA: 0s - loss: 9.0159 - mae: 7.2610\n",
      "Epoch 00010: val_mae improved from 10.10942 to 9.69842, saving model to vidio_1.h5\n",
      "5/5 [==============================] - 0s 21ms/step - loss: 8.7700 - mae: 6.9790 - val_loss: 11.4343 - val_mae: 9.6984\n",
      "Epoch 11/100\n",
      "5/5 [==============================] - 0s 11ms/step - loss: 8.5214 - mae: 6.8758 - val_loss: 11.2628 - val_mae: 9.5337\n",
      "Epoch 12/100\n",
      "1/5 [=====>........................] - ETA: 0s - loss: 8.5478 - mae: 6.8498\n",
      "Epoch 00012: val_mae improved from 9.69842 to 9.19613, saving model to vidio_1.h5\n",
      "5/5 [==============================] - 0s 22ms/step - loss: 8.3697 - mae: 6.6706 - val_loss: 10.9099 - val_mae: 9.1961\n",
      "Epoch 13/100\n",
      "5/5 [==============================] - 0s 11ms/step - loss: 8.0457 - mae: 6.4336 - val_loss: 10.4146 - val_mae: 8.7082\n",
      "Epoch 14/100\n",
      "1/5 [=====>........................] - ETA: 0s - loss: 8.2531 - mae: 6.8073\n",
      "Epoch 00014: val_mae improved from 9.19613 to 8.17877, saving model to vidio_1.h5\n",
      "5/5 [==============================] - 0s 22ms/step - loss: 7.8741 - mae: 6.2619 - val_loss: 9.8320 - val_mae: 8.1788\n",
      "Epoch 15/100\n",
      "5/5 [==============================] - 0s 10ms/step - loss: 7.6265 - mae: 6.0770 - val_loss: 9.5126 - val_mae: 7.8927\n",
      "Epoch 16/100\n",
      "1/5 [=====>........................] - ETA: 0s - loss: 7.6681 - mae: 6.2378\n",
      "Epoch 00016: val_mae improved from 8.17877 to 7.84226, saving model to vidio_1.h5\n",
      "5/5 [==============================] - 0s 22ms/step - loss: 7.3543 - mae: 5.9879 - val_loss: 9.4294 - val_mae: 7.8423\n",
      "Epoch 17/100\n",
      "5/5 [==============================] - 0s 10ms/step - loss: 7.1091 - mae: 5.6231 - val_loss: 9.3995 - val_mae: 7.8214\n",
      "Epoch 18/100\n",
      "1/5 [=====>........................] - ETA: 0s - loss: 6.8171 - mae: 5.3569\n",
      "Epoch 00018: val_mae improved from 7.84226 to 7.72375, saving model to vidio_1.h5\n",
      "5/5 [==============================] - 0s 22ms/step - loss: 6.9731 - mae: 5.6023 - val_loss: 9.2556 - val_mae: 7.7237\n",
      "Epoch 19/100\n",
      "5/5 [==============================] - 0s 11ms/step - loss: 6.9826 - mae: 5.5964 - val_loss: 9.1655 - val_mae: 7.6503\n",
      "Epoch 20/100\n",
      "1/5 [=====>........................] - ETA: 0s - loss: 6.8657 - mae: 5.5015\n",
      "Epoch 00020: val_mae improved from 7.72375 to 7.62372, saving model to vidio_1.h5\n",
      "5/5 [==============================] - 0s 21ms/step - loss: 6.6132 - mae: 5.3494 - val_loss: 9.1056 - val_mae: 7.6237\n",
      "Epoch 21/100\n",
      "5/5 [==============================] - 0s 11ms/step - loss: 6.5512 - mae: 5.3425 - val_loss: 9.0267 - val_mae: 7.5676\n",
      "Epoch 22/100\n",
      "1/5 [=====>........................] - ETA: 0s - loss: 6.3660 - mae: 5.1999\n",
      "Epoch 00022: val_mae improved from 7.62372 to 7.18040, saving model to vidio_1.h5\n",
      "5/5 [==============================] - 0s 21ms/step - loss: 6.3350 - mae: 5.1799 - val_loss: 8.5772 - val_mae: 7.1804\n",
      "Epoch 23/100\n",
      "5/5 [==============================] - 0s 11ms/step - loss: 6.2437 - mae: 5.1078 - val_loss: 8.3145 - val_mae: 6.9459\n",
      "Epoch 24/100\n",
      "1/5 [=====>........................] - ETA: 0s - loss: 5.8775 - mae: 4.7754\n",
      "Epoch 00024: val_mae improved from 7.18040 to 6.79408, saving model to vidio_1.h5\n",
      "5/5 [==============================] - 0s 22ms/step - loss: 6.2566 - mae: 5.0485 - val_loss: 8.1136 - val_mae: 6.7941\n",
      "Epoch 25/100\n",
      "5/5 [==============================] - 0s 11ms/step - loss: 6.0497 - mae: 4.9323 - val_loss: 7.8167 - val_mae: 6.6204\n",
      "Epoch 26/100\n",
      "1/5 [=====>........................] - ETA: 0s - loss: 5.2511 - mae: 4.2032\n",
      "Epoch 00026: val_mae improved from 6.79408 to 6.68314, saving model to vidio_1.h5\n",
      "5/5 [==============================] - 0s 22ms/step - loss: 5.7292 - mae: 4.6088 - val_loss: 7.8669 - val_mae: 6.6831\n",
      "Epoch 27/100\n",
      "5/5 [==============================] - 0s 10ms/step - loss: 6.0442 - mae: 4.9040 - val_loss: 7.9158 - val_mae: 6.6992\n",
      "Epoch 28/100\n",
      "1/5 [=====>........................] - ETA: 0s - loss: 5.7555 - mae: 4.7103\n",
      "Epoch 00028: val_mae did not improve from 6.68314\n",
      "5/5 [==============================] - 0s 10ms/step - loss: 5.9288 - mae: 4.8505 - val_loss: 8.0457 - val_mae: 6.7638\n",
      "Epoch 29/100\n",
      "5/5 [==============================] - 0s 10ms/step - loss: 5.9195 - mae: 4.8326 - val_loss: 8.1889 - val_mae: 6.8923\n",
      "Epoch 30/100\n",
      "1/5 [=====>........................] - ETA: 0s - loss: 5.7584 - mae: 4.7177\n",
      "Epoch 00030: val_mae did not improve from 6.68314\n",
      "5/5 [==============================] - 0s 10ms/step - loss: 5.7027 - mae: 4.6358 - val_loss: 8.0078 - val_mae: 6.7452\n",
      "Epoch 31/100\n",
      "5/5 [==============================] - 0s 11ms/step - loss: 5.6720 - mae: 4.5733 - val_loss: 7.6522 - val_mae: 6.4450\n",
      "Epoch 32/100\n",
      "1/5 [=====>........................] - ETA: 0s - loss: 6.0200 - mae: 5.0199\n",
      "Epoch 00032: val_mae improved from 6.68314 to 6.30904, saving model to vidio_1.h5\n",
      "5/5 [==============================] - 0s 21ms/step - loss: 5.7507 - mae: 4.7151 - val_loss: 7.5016 - val_mae: 6.3090\n",
      "Epoch 33/100\n",
      "5/5 [==============================] - 0s 10ms/step - loss: 5.7385 - mae: 4.6988 - val_loss: 7.7580 - val_mae: 6.4827\n",
      "Epoch 34/100\n",
      "1/5 [=====>........................] - ETA: 0s - loss: 5.4752 - mae: 4.5121\n",
      "Epoch 00034: val_mae did not improve from 6.30904\n",
      "5/5 [==============================] - 0s 11ms/step - loss: 5.5697 - mae: 4.5812 - val_loss: 8.2778 - val_mae: 6.9280\n",
      "Epoch 35/100\n",
      "5/5 [==============================] - 0s 10ms/step - loss: 5.5810 - mae: 4.5424 - val_loss: 8.2042 - val_mae: 6.8587\n",
      "Epoch 36/100\n",
      "1/5 [=====>........................] - ETA: 0s - loss: 6.1124 - mae: 4.9789\n",
      "Epoch 00036: val_mae did not improve from 6.30904\n",
      "5/5 [==============================] - 0s 11ms/step - loss: 5.5303 - mae: 4.5765 - val_loss: 8.0181 - val_mae: 6.6450\n",
      "Epoch 37/100\n",
      "5/5 [==============================] - 0s 11ms/step - loss: 5.4624 - mae: 4.4918 - val_loss: 7.9511 - val_mae: 6.6263\n",
      "Epoch 38/100\n",
      "1/5 [=====>........................] - ETA: 0s - loss: 5.6911 - mae: 4.7623\n",
      "Epoch 00038: val_mae did not improve from 6.30904\n",
      "5/5 [==============================] - 0s 11ms/step - loss: 5.4781 - mae: 4.4710 - val_loss: 7.7941 - val_mae: 6.5589\n",
      "Epoch 39/100\n",
      "5/5 [==============================] - 0s 10ms/step - loss: 5.3703 - mae: 4.3725 - val_loss: 7.6948 - val_mae: 6.5054\n",
      "Epoch 40/100\n",
      "1/5 [=====>........................] - ETA: 0s - loss: 5.5192 - mae: 4.5864\n"
     ]
    },
    {
     "name": "stdout",
     "output_type": "stream",
     "text": [
      "Epoch 00040: val_mae did not improve from 6.30904\n",
      "5/5 [==============================] - 0s 10ms/step - loss: 5.4028 - mae: 4.4682 - val_loss: 7.6113 - val_mae: 6.4435\n",
      "Epoch 41/100\n",
      "5/5 [==============================] - 0s 10ms/step - loss: 5.3635 - mae: 4.4797 - val_loss: 7.5778 - val_mae: 6.3929\n",
      "Epoch 42/100\n",
      "1/5 [=====>........................] - ETA: 0s - loss: 5.6860 - mae: 4.7439\n",
      "Epoch 00042: val_mae improved from 6.30904 to 6.20923, saving model to vidio_1.h5\n",
      "5/5 [==============================] - 0s 21ms/step - loss: 5.4383 - mae: 4.5153 - val_loss: 7.4300 - val_mae: 6.2092\n",
      "Epoch 43/100\n",
      "5/5 [==============================] - 0s 12ms/step - loss: 5.4885 - mae: 4.5349 - val_loss: 7.2136 - val_mae: 5.9570\n",
      "Epoch 44/100\n",
      "1/5 [=====>........................] - ETA: 0s - loss: 5.9529 - mae: 5.0579\n",
      "Epoch 00044: val_mae improved from 6.20923 to 5.87882, saving model to vidio_1.h5\n",
      "5/5 [==============================] - 0s 21ms/step - loss: 5.4962 - mae: 4.5728 - val_loss: 7.0965 - val_mae: 5.8788\n",
      "Epoch 45/100\n",
      "5/5 [==============================] - 0s 10ms/step - loss: 5.2700 - mae: 4.3177 - val_loss: 7.1652 - val_mae: 5.9488\n",
      "Epoch 46/100\n",
      "1/5 [=====>........................] - ETA: 0s - loss: 5.6011 - mae: 4.4817\n",
      "Epoch 00046: val_mae improved from 5.87882 to 5.72590, saving model to vidio_1.h5\n",
      "5/5 [==============================] - 0s 21ms/step - loss: 5.4027 - mae: 4.3661 - val_loss: 6.9440 - val_mae: 5.7259\n",
      "Epoch 47/100\n",
      "5/5 [==============================] - 0s 11ms/step - loss: 5.4086 - mae: 4.4517 - val_loss: 6.7429 - val_mae: 5.5459\n",
      "Epoch 48/100\n",
      "1/5 [=====>........................] - ETA: 0s - loss: 5.8966 - mae: 4.8922\n",
      "Epoch 00048: val_mae did not improve from 5.72590\n",
      "5/5 [==============================] - 0s 10ms/step - loss: 5.3605 - mae: 4.3634 - val_loss: 7.1871 - val_mae: 5.9072\n",
      "Epoch 49/100\n",
      "5/5 [==============================] - 0s 11ms/step - loss: 5.3585 - mae: 4.3876 - val_loss: 7.9866 - val_mae: 6.6231\n",
      "Epoch 50/100\n",
      "1/5 [=====>........................] - ETA: 0s - loss: 5.1480 - mae: 4.2215\n",
      "Epoch 00050: val_mae did not improve from 5.72590\n",
      "5/5 [==============================] - 0s 11ms/step - loss: 5.2325 - mae: 4.2887 - val_loss: 8.4336 - val_mae: 6.9883\n",
      "Epoch 51/100\n",
      "5/5 [==============================] - 0s 11ms/step - loss: 5.2570 - mae: 4.3101 - val_loss: 8.6215 - val_mae: 7.0956\n",
      "Epoch 52/100\n",
      "1/5 [=====>........................] - ETA: 0s - loss: 4.7933 - mae: 3.9054\n",
      "Epoch 00052: val_mae did not improve from 5.72590\n",
      "5/5 [==============================] - 0s 10ms/step - loss: 5.0951 - mae: 4.1535 - val_loss: 8.6158 - val_mae: 7.0631\n",
      "Epoch 53/100\n",
      "5/5 [==============================] - 0s 11ms/step - loss: 4.9268 - mae: 4.0416 - val_loss: 8.5502 - val_mae: 7.0570\n",
      "Epoch 54/100\n",
      "1/5 [=====>........................] - ETA: 0s - loss: 5.1336 - mae: 4.1441\n",
      "Epoch 00054: val_mae did not improve from 5.72590\n",
      "5/5 [==============================] - 0s 10ms/step - loss: 4.9730 - mae: 4.0371 - val_loss: 8.0735 - val_mae: 6.6097\n",
      "Epoch 55/100\n",
      "5/5 [==============================] - 0s 10ms/step - loss: 5.0404 - mae: 4.0690 - val_loss: 8.2504 - val_mae: 6.6970\n",
      "Epoch 56/100\n",
      "1/5 [=====>........................] - ETA: 0s - loss: 4.7872 - mae: 3.8886\n",
      "Epoch 00056: val_mae did not improve from 5.72590\n",
      "5/5 [==============================] - 0s 10ms/step - loss: 4.9715 - mae: 4.0404 - val_loss: 8.7364 - val_mae: 7.1204\n",
      "Epoch 57/100\n",
      "5/5 [==============================] - 0s 10ms/step - loss: 4.9748 - mae: 4.0904 - val_loss: 8.8763 - val_mae: 7.3145\n",
      "Epoch 00057: early stopping\n"
     ]
    }
   ],
   "source": [
    "early_stopping = EarlyStopping(monitor='val_mae', patience=10, verbose=2)\n",
    "checkpoint = ModelCheckpoint('vidio_1.h5', monitor='val_mae', verbose=1,save_best_only=True,mode='min',period=2)\n",
    "callbacks_list=[checkpoint,early_stopping]\n",
    "history=tcn.fit(x_train,y_train,validation_data=(x_test,y_test),epochs=100,batch_size=128,callbacks=[callbacks_list])"
   ]
  },
  {
   "cell_type": "code",
   "execution_count": 13,
   "metadata": {},
   "outputs": [
    {
     "data": {
      "text/plain": [
       "dict_keys(['loss', 'mae', 'val_loss', 'val_mae'])"
      ]
     },
     "execution_count": 13,
     "metadata": {},
     "output_type": "execute_result"
    }
   ],
   "source": [
    "history.history.keys()"
   ]
  },
  {
   "cell_type": "code",
   "execution_count": 14,
   "metadata": {},
   "outputs": [
    {
     "data": {
      "text/plain": [
       "<matplotlib.legend.Legend at 0x22a7977e5e0>"
      ]
     },
     "execution_count": 14,
     "metadata": {},
     "output_type": "execute_result"
    },
    {
     "data": {
      "image/png": "[encoded data removed]",
      "text/plain": [
       "<Figure size 432x288 with 1 Axes>"
      ]
     },
     "metadata": {
      "needs_background": "light"
     },
     "output_type": "display_data"
    }
   ],
   "source": [
    "history.history.keys() #查看history中存储了哪些参数\n",
    "plt.plot(history.epoch,history.history.get('val_mae'),'r',label='val_mae') #画出随着epoch增大loss的变化图\n",
    "plt.plot(history.epoch,history.history.get('mae'),'g',label='mae')#画出随着epoch增大准确率的变化图\n",
    "plt.legend(loc=0,ncol=2)"
   ]
  },
  {
   "cell_type": "code",
   "execution_count": 15,
   "metadata": {},
   "outputs": [
    {
     "data": {
      "text/plain": [
       "[<matplotlib.lines.Line2D at 0x22a79351b50>]"
      ]
     },
     "execution_count": 15,
     "metadata": {},
     "output_type": "execute_result"
    },
    {
     "data": {
      "image/png": "[encoded data removed]",
      "text/plain": [
       "<Figure size 432x288 with 1 Axes>"
      ]
     },
     "metadata": {
      "needs_background": "light"
     },
     "output_type": "display_data"
    }
   ],
   "source": [
    "history.history.keys() #查看history中存储了哪些参数\n",
    "plt.plot(history.epoch,history.history.get('val_loss'),'r',label='val_loss') #画出随着epoch增大loss的变化图\n",
    "plt.plot(history.epoch,history.history.get('loss'),'g',label='loss')#画出随着epoch增大准确率的变化图"
   ]
  },
  {
   "cell_type": "code",
   "execution_count": 16,
   "metadata": {},
   "outputs": [],
   "source": [
    "# model_name = 'vidio_1.h5'\n",
    "# tcn.save(model_name)"
   ]
  },
  {
   "cell_type": "code",
   "execution_count": 17,
   "metadata": {},
   "outputs": [
    {
     "name": "stdout",
     "output_type": "stream",
     "text": [
      "2/2 [==============================] - 0s 984us/step - loss: 8.8437 - mae: 7.3145\n"
     ]
    },
    {
     "data": {
      "text/plain": [
       "[8.843748092651367, 7.314545631408691]"
      ]
     },
     "execution_count": 17,
     "metadata": {},
     "output_type": "execute_result"
    }
   ],
   "source": [
    "score_test = tcn.evaluate(x_test,y_test)\n",
    "score_test"
   ]
  }
 ],
 "metadata": {
  "kernelspec": {
   "display_name": "Python 3",
   "language": "python",
   "name": "python3"
  },
  "language_info": {
   "codemirror_mode": {
    "name": "ipython",
    "version": 3
   },
   "file_extension": ".py",
   "mimetype": "text/x-python",
   "name": "python",
   "nbconvert_exporter": "python",
   "pygments_lexer": "ipython3",
   "version": "3.8.3"
  }
 },
 "nbformat": 4,
 "nbformat_minor": 4
}
