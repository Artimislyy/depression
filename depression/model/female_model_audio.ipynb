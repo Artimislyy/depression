{
 "cells": [
  {
   "cell_type": "code",
   "execution_count": 1,
   "metadata": {},
   "outputs": [],
   "source": [
    "from tensorflow.keras.callbacks import Callback\n",
    "import pandas as pd\n",
    "import random \n",
    "import numpy as np\n",
    "import math\n",
    "from matplotlib import pyplot as plt\n",
    "from matplotlib.pylab import mpl\n",
    "import tensorflow as tf\n",
    "from sklearn.preprocessing import MinMaxScaler,StandardScaler\n",
    "from tensorflow.keras import backend as K\n",
    "from tensorflow.keras.layers import LeakyReLU,Conv1D,Dense\n",
    "from tcn import TCN,tcn_full_summary\n",
    "from sklearn.metrics import mean_squared_error # 均方误差\n",
    "from tensorflow.keras.callbacks import LearningRateScheduler\n",
    "from tensorflow.keras.callbacks import EarlyStopping\n",
    "from tensorflow.keras import Input,Model,Sequential\n",
    "from tensorflow.keras.callbacks import ModelCheckpoint"
   ]
  },
  {
   "cell_type": "markdown",
   "metadata": {},
   "source": [
    "### Keras设置随机种子"
   ]
  },
  {
   "cell_type": "code",
   "execution_count": 2,
   "metadata": {},
   "outputs": [],
   "source": [
    "my_seed = 666\n",
    "np.random.seed(my_seed)\n",
    "random.seed(my_seed)\n",
    "tf.random.set_seed(my_seed)"
   ]
  },
  {
   "cell_type": "code",
   "execution_count": 3,
   "metadata": {},
   "outputs": [],
   "source": [
    "female_train_audio_path = 'H:/data/audio_data/female_train_D_feature/female_train_D_audio.csv'\n",
    "female_dev_audio_path = 'H:/dev_data/audio_data/female_dev_D_feature/female_dev_D_audio.csv'\n",
    "female_dev_audio_path2 = 'H:/dev_data/audio_data/female_dev_ND_feature/female_dev_ND_audio.csv'\n",
    "female_train_audio_path2 = 'H:/data/audio_data/female_train_ND_feature/female_train_ND_audio.csv'\n",
    "\n",
    "male_train_audio_path = 'H:/data/audio_data/male_train_D_feature/male_train_D_audio.csv'\n",
    "male_dev_audio_path = 'H:/dev_data/audio_data/male_dev_D_feature/male_dev_D_audio.csv'\n",
    "male_dev_audio_path2 = 'H:/dev_data/audio_data/male_dev_ND_feature/male_dev_ND_audio.csv'\n",
    "male_train_audio_path2 = 'H:/data/audio_data/male_train_ND_feature/male_train_ND_audio.csv'\n",
    "\n",
    "df1 = pd.read_csv(female_train_audio_path,index_col=0)\n",
    "df2 = pd.read_csv(female_dev_audio_path,index_col=0)\n",
    "df3 = pd.read_csv(female_dev_audio_path2,index_col=0)\n",
    "df4 = pd.read_csv(female_train_audio_path2,index_col=0)\n",
    "\n",
    "df5 = pd.read_csv(male_train_audio_path,index_col=0)\n",
    "df6 = pd.read_csv(male_dev_audio_path,index_col=0)\n",
    "df7 = pd.read_csv(male_dev_audio_path2,index_col=0)\n",
    "df8 = pd.read_csv(male_train_audio_path2,index_col=0)\n",
    "\n",
    "df = pd.concat([df1,df2,df3,df4,df5,df6,df7,df8],ignore_index=True)\n",
    "df = df.sample(frac=1.0).reset_index(drop=True)"
   ]
  },
  {
   "cell_type": "markdown",
   "metadata": {},
   "source": [
    "### 对数据进行归一化"
   ]
  },
  {
   "cell_type": "code",
   "execution_count": 4,
   "metadata": {},
   "outputs": [],
   "source": [
    "len1 = int(df.shape[0]*0.9)\n",
    "train=df[:len1]\n",
    "test=df[len1:]\n",
    "\n",
    "#不对y进行归一化\n",
    "X_Train=train.iloc[:,:-1]\n",
    "Y_train=train.iloc[:,-1:]\n",
    "X_Test=test.iloc[:,:-1]\n",
    "Y_test=test.iloc[:,-1:]"
   ]
  },
  {
   "cell_type": "code",
   "execution_count": 5,
   "metadata": {},
   "outputs": [],
   "source": [
    "# 标准化\n",
    "# scaler = StandardScaler().fit(X_Train)\n",
    "# X_train = pd.DataFrame(scaler.transform(X_Train))\n",
    "# X_test = pd.DataFrame(scaler.transform(X_Test))\n",
    "# #归一化\n",
    "df = df.iloc[:,:-1]\n",
    "scaler = MinMaxScaler(feature_range=(-1,1)).fit(df)\n",
    "X_train=pd.DataFrame(scaler.fit_transform(X_Train))\n",
    "X_test=pd.DataFrame(scaler.transform(X_Test))"
   ]
  },
  {
   "cell_type": "code",
   "execution_count": 18,
   "metadata": {},
   "outputs": [
    {
     "data": {
      "text/html": [
       "<div>\n",
       "<style scoped>\n",
       "    .dataframe tbody tr th:only-of-type {\n",
       "        vertical-align: middle;\n",
       "    }\n",
       "\n",
       "    .dataframe tbody tr th {\n",
       "        vertical-align: top;\n",
       "    }\n",
       "\n",
       "    .dataframe thead th {\n",
       "        text-align: right;\n",
       "    }\n",
       "</style>\n",
       "<table border=\"1\" class=\"dataframe\">\n",
       "  <thead>\n",
       "    <tr style=\"text-align: right;\">\n",
       "      <th></th>\n",
       "      <th>6373</th>\n",
       "    </tr>\n",
       "  </thead>\n",
       "  <tbody>\n",
       "    <tr>\n",
       "      <th>0</th>\n",
       "      <td>0.0</td>\n",
       "    </tr>\n",
       "    <tr>\n",
       "      <th>1</th>\n",
       "      <td>10.0</td>\n",
       "    </tr>\n",
       "    <tr>\n",
       "      <th>2</th>\n",
       "      <td>3.0</td>\n",
       "    </tr>\n",
       "    <tr>\n",
       "      <th>3</th>\n",
       "      <td>3.0</td>\n",
       "    </tr>\n",
       "    <tr>\n",
       "      <th>4</th>\n",
       "      <td>16.0</td>\n",
       "    </tr>\n",
       "    <tr>\n",
       "      <th>5</th>\n",
       "      <td>9.0</td>\n",
       "    </tr>\n",
       "    <tr>\n",
       "      <th>6</th>\n",
       "      <td>12.0</td>\n",
       "    </tr>\n",
       "    <tr>\n",
       "      <th>7</th>\n",
       "      <td>11.0</td>\n",
       "    </tr>\n",
       "    <tr>\n",
       "      <th>8</th>\n",
       "      <td>18.0</td>\n",
       "    </tr>\n",
       "    <tr>\n",
       "      <th>9</th>\n",
       "      <td>7.0</td>\n",
       "    </tr>\n",
       "  </tbody>\n",
       "</table>\n",
       "</div>"
      ],
      "text/plain": [
       "   6373\n",
       "0   0.0\n",
       "1  10.0\n",
       "2   3.0\n",
       "3   3.0\n",
       "4  16.0\n",
       "5   9.0\n",
       "6  12.0\n",
       "7  11.0\n",
       "8  18.0\n",
       "9   7.0"
      ]
     },
     "execution_count": 18,
     "metadata": {},
     "output_type": "execute_result"
    }
   ],
   "source": [
    "Y_test = Y_test.reset_index(drop=True)\n",
    "Y_test.head(10)"
   ]
  },
  {
   "cell_type": "code",
   "execution_count": 7,
   "metadata": {},
   "outputs": [],
   "source": [
    "audio_dev = pd.concat([X_test,Y_test],ignore_index=True,axis=1)\n",
    "audio_dev.to_csv(\"audio_dev.csv\")"
   ]
  },
  {
   "cell_type": "markdown",
   "metadata": {},
   "source": [
    "### 转换为3维数据 [samples, timesteps, features]"
   ]
  },
  {
   "cell_type": "code",
   "execution_count": 8,
   "metadata": {},
   "outputs": [],
   "source": [
    "x_train=X_train.values.reshape([X_train.shape[0],1,X_train.shape[1]]) \n",
    "x_test=X_test.values.reshape([X_test.shape[0],1,X_test.shape[1]])  \n",
    "y_train=Y_train.values\n",
    "y_test=Y_test.values"
   ]
  },
  {
   "cell_type": "code",
   "execution_count": 9,
   "metadata": {},
   "outputs": [
    {
     "data": {
      "text/plain": [
       "((520, 1, 6373), (520, 1), (58, 1, 6373), (58, 1))"
      ]
     },
     "execution_count": 9,
     "metadata": {},
     "output_type": "execute_result"
    }
   ],
   "source": [
    "x_train.shape,y_train.shape,x_test.shape,y_test.shape"
   ]
  },
  {
   "cell_type": "markdown",
   "metadata": {},
   "source": [
    "### 构造TCN模型"
   ]
  },
  {
   "cell_type": "code",
   "execution_count": 10,
   "metadata": {},
   "outputs": [],
   "source": [
    "def rmse(y_pred, y_true):\n",
    "    return K.sqrt(K.mean(K.square(y_pred - y_true)))"
   ]
  },
  {
   "cell_type": "code",
   "execution_count": 11,
   "metadata": {},
   "outputs": [
    {
     "name": "stdout",
     "output_type": "stream",
     "text": [
      "Model: \"sequential\"\n",
      "_________________________________________________________________\n",
      "Layer (type)                 Output Shape              Param #   \n",
      "=================================================================\n",
      "tcn (TCN)                    (None, 32)                627456    \n",
      "_________________________________________________________________\n",
      "dense (Dense)                (None, 1)                 33        \n",
      "=================================================================\n",
      "Total params: 627,489\n",
      "Trainable params: 626,977\n",
      "Non-trainable params: 512\n",
      "_________________________________________________________________\n"
     ]
    }
   ],
   "source": [
    "batch_size=None\n",
    "timesteps=x_train.shape[1]\n",
    "input_dim=x_train.shape[2] #输入维数\n",
    "tcn = Sequential()\n",
    "input_layer =Input(batch_shape=(batch_size,timesteps,input_dim))\n",
    "tcn.add(input_layer)\n",
    "tcn.add(TCN(nb_filters=32, #在卷积层中使用的过滤器数。可以是列表。\n",
    "        kernel_size=2, #在每个卷积层中使用的内核大小。\n",
    "        nb_stacks=1,   #要使用的残差块的堆栈数。\n",
    "        dilations=[2 ** i for i in range(4)], #扩张列表。示例为：[1、2、4、8、16、32、64]。\n",
    "        #用于卷积层中的填充,值为'causal' 或'same'。\n",
    "        #“causal”将产生因果（膨胀的）卷积，即output[t]不依赖于input[t+1：]。当对不能违反时间顺序的时序信号建模时有用。\n",
    "        #“same”代表保留边界处的卷积结果，通常会导致输出shape与输入shape相同。\n",
    "        padding='causal',\n",
    "        use_skip_connections=True, #是否要添加从输入到每个残差块的跳过连接。\n",
    "        dropout_rate=0.3, #在0到1之间浮动。要下降的输入单位的分数。\n",
    "        return_sequences=False,#是返回输出序列中的最后一个输出还是完整序列。\n",
    "        activation='relu', #残差块中使用的激活函数 o = Activation(x + F(x)).\n",
    "        kernel_initializer='he_normal', #内核权重矩阵（Conv1D）的初始化程序。\n",
    "        use_batch_norm=True, #是否在残差层中使用批处理规范化。\n",
    "#         use_layer_norm=False, #是否在残差层中使用层归一化。\n",
    "        name='tcn' #使用多个TCN时，要使用唯一的名称\n",
    "        ))\n",
    "tcn.add(tf.keras.layers.Dense(1))\n",
    "tcn.compile('adam', loss=rmse, metrics=['mae'])\n",
    "tcn.summary()"
   ]
  },
  {
   "cell_type": "code",
   "execution_count": 12,
   "metadata": {},
   "outputs": [
    {
     "name": "stdout",
     "output_type": "stream",
     "text": [
      "WARNING:tensorflow:`period` argument is deprecated. Please use `save_freq` to specify the frequency in number of batches seen.\n",
      "Epoch 1/100\n",
      "17/17 [==============================] - 0s 24ms/step - loss: 10.8853 - mae: 9.1898 - val_loss: 19.3535 - val_mae: 18.5097\n",
      "Epoch 2/100\n",
      "10/17 [================>.............] - ETA: 0s - loss: 9.8453 - mae: 8.1527\n",
      "Epoch 00002: val_mae improved from inf to 10.02468, saving model to audio_4.h5\n",
      "17/17 [==============================] - 0s 11ms/step - loss: 9.9109 - mae: 8.2837 - val_loss: 11.4331 - val_mae: 10.0247\n",
      "Epoch 3/100\n",
      "17/17 [==============================] - 0s 7ms/step - loss: 8.5685 - mae: 7.0600 - val_loss: 5.6803 - val_mae: 4.7206\n",
      "Epoch 4/100\n",
      "10/17 [================>.............] - ETA: 0s - loss: 7.7391 - mae: 6.3496\n",
      "Epoch 00004: val_mae improved from 10.02468 to 6.32662, saving model to audio_4.h5\n",
      "17/17 [==============================] - 0s 11ms/step - loss: 7.4700 - mae: 6.1774 - val_loss: 7.8020 - val_mae: 6.3266\n",
      "Epoch 5/100\n",
      "17/17 [==============================] - 0s 7ms/step - loss: 6.3542 - mae: 5.1702 - val_loss: 8.1224 - val_mae: 6.9245\n",
      "Epoch 6/100\n",
      "10/17 [================>.............] - ETA: 0s - loss: 5.4972 - mae: 4.4144\n",
      "Epoch 00006: val_mae did not improve from 6.32662\n",
      "17/17 [==============================] - 0s 7ms/step - loss: 5.4664 - mae: 4.4380 - val_loss: 11.5414 - val_mae: 10.0547\n",
      "Epoch 7/100\n",
      "17/17 [==============================] - 0s 6ms/step - loss: 4.6059 - mae: 3.6473 - val_loss: 11.1822 - val_mae: 10.1807\n",
      "Epoch 8/100\n",
      " 8/17 [=============>................] - ETA: 0s - loss: 4.3131 - mae: 3.4092\n",
      "Epoch 00008: val_mae did not improve from 6.32662\n",
      "17/17 [==============================] - 0s 7ms/step - loss: 4.1656 - mae: 3.3332 - val_loss: 8.2771 - val_mae: 7.0436\n",
      "Epoch 9/100\n",
      "17/17 [==============================] - 0s 7ms/step - loss: 3.9603 - mae: 3.1692 - val_loss: 14.7164 - val_mae: 13.4725\n",
      "Epoch 10/100\n",
      "10/17 [================>.............] - ETA: 0s - loss: 3.8472 - mae: 3.0907\n",
      "Epoch 00010: val_mae did not improve from 6.32662\n",
      "17/17 [==============================] - 0s 7ms/step - loss: 3.8675 - mae: 3.1263 - val_loss: 15.9850 - val_mae: 14.9456\n",
      "Epoch 11/100\n",
      "17/17 [==============================] - 0s 6ms/step - loss: 3.7155 - mae: 2.9485 - val_loss: 21.9000 - val_mae: 21.1601\n",
      "Epoch 12/100\n",
      "10/17 [================>.............] - ETA: 0s - loss: 3.4394 - mae: 2.7306\n",
      "Epoch 00012: val_mae did not improve from 6.32662\n",
      "17/17 [==============================] - 0s 7ms/step - loss: 3.4860 - mae: 2.8075 - val_loss: 9.9838 - val_mae: 8.6902\n",
      "Epoch 13/100\n",
      "17/17 [==============================] - 0s 7ms/step - loss: 3.2451 - mae: 2.6478 - val_loss: 7.3104 - val_mae: 6.2672\n",
      "Epoch 14/100\n",
      "10/17 [================>.............] - ETA: 0s - loss: 3.2012 - mae: 2.5778\n",
      "Epoch 00014: val_mae did not improve from 6.32662\n",
      "17/17 [==============================] - 0s 7ms/step - loss: 3.2366 - mae: 2.5557 - val_loss: 10.1575 - val_mae: 8.9090\n",
      "Epoch 15/100\n",
      "17/17 [==============================] - 0s 6ms/step - loss: 3.3213 - mae: 2.6525 - val_loss: 6.0369 - val_mae: 5.2128\n",
      "Epoch 16/100\n",
      "10/17 [================>.............] - ETA: 0s - loss: 3.1177 - mae: 2.5128\n",
      "Epoch 00016: val_mae improved from 6.32662 to 4.42977, saving model to audio_4.h5\n",
      "17/17 [==============================] - 0s 10ms/step - loss: 3.2558 - mae: 2.5959 - val_loss: 5.3668 - val_mae: 4.4298\n",
      "Epoch 17/100\n",
      "17/17 [==============================] - 0s 7ms/step - loss: 3.0267 - mae: 2.3742 - val_loss: 4.2790 - val_mae: 3.5482\n",
      "Epoch 18/100\n",
      "11/17 [==================>...........] - ETA: 0s - loss: 2.9733 - mae: 2.3463\n",
      "Epoch 00018: val_mae did not improve from 4.42977\n",
      "17/17 [==============================] - 0s 6ms/step - loss: 2.9629 - mae: 2.3357 - val_loss: 5.7368 - val_mae: 4.8884\n",
      "Epoch 19/100\n",
      "17/17 [==============================] - 0s 6ms/step - loss: 2.9525 - mae: 2.2760 - val_loss: 5.2781 - val_mae: 4.1151\n",
      "Epoch 20/100\n",
      "10/17 [================>.............] - ETA: 0s - loss: 3.0860 - mae: 2.5130\n",
      "Epoch 00020: val_mae improved from 4.42977 to 4.04937, saving model to audio_4.h5\n",
      "17/17 [==============================] - 0s 11ms/step - loss: 3.0648 - mae: 2.4872 - val_loss: 4.9697 - val_mae: 4.0494\n",
      "Epoch 21/100\n",
      "17/17 [==============================] - 0s 7ms/step - loss: 2.9606 - mae: 2.4027 - val_loss: 4.3995 - val_mae: 3.6294\n",
      "Epoch 22/100\n",
      "10/17 [================>.............] - ETA: 0s - loss: 2.6106 - mae: 2.0632\n",
      "Epoch 00022: val_mae improved from 4.04937 to 3.68557, saving model to audio_4.h5\n",
      "17/17 [==============================] - 0s 10ms/step - loss: 2.7363 - mae: 2.1720 - val_loss: 4.4657 - val_mae: 3.6856\n",
      "Epoch 23/100\n",
      "17/17 [==============================] - 0s 7ms/step - loss: 2.6741 - mae: 2.1818 - val_loss: 4.2950 - val_mae: 3.3866\n",
      "Epoch 24/100\n",
      "10/17 [================>.............] - ETA: 0s - loss: 2.5584 - mae: 2.0738\n",
      "Epoch 00024: val_mae did not improve from 3.68557\n",
      "17/17 [==============================] - 0s 7ms/step - loss: 2.7256 - mae: 2.1981 - val_loss: 4.7437 - val_mae: 3.9021\n",
      "Epoch 25/100\n",
      "17/17 [==============================] - 0s 7ms/step - loss: 2.5449 - mae: 2.0132 - val_loss: 4.7599 - val_mae: 3.7648\n",
      "Epoch 26/100\n",
      "10/17 [================>.............] - ETA: 0s - loss: 2.5427 - mae: 2.0624\n",
      "Epoch 00026: val_mae improved from 3.68557 to 3.42302, saving model to audio_4.h5\n",
      "17/17 [==============================] - 0s 10ms/step - loss: 2.6261 - mae: 2.0790 - val_loss: 4.3730 - val_mae: 3.4230\n",
      "Epoch 27/100\n",
      "17/17 [==============================] - 0s 7ms/step - loss: 2.5918 - mae: 2.0800 - val_loss: 4.6252 - val_mae: 3.4589\n",
      "Epoch 28/100\n",
      "10/17 [================>.............] - ETA: 0s - loss: 2.1766 - mae: 1.7233\n",
      "Epoch 00028: val_mae did not improve from 3.42302\n",
      "17/17 [==============================] - 0s 7ms/step - loss: 2.3080 - mae: 1.8420 - val_loss: 5.1813 - val_mae: 3.9085\n",
      "Epoch 29/100\n",
      "17/17 [==============================] - 0s 7ms/step - loss: 2.5473 - mae: 1.9625 - val_loss: 3.9255 - val_mae: 3.1834\n",
      "Epoch 30/100\n",
      "10/17 [================>.............] - ETA: 0s - loss: 2.3594 - mae: 1.9244\n",
      "Epoch 00030: val_mae did not improve from 3.42302\n",
      "17/17 [==============================] - 0s 7ms/step - loss: 2.3945 - mae: 1.8917 - val_loss: 4.2872 - val_mae: 3.6418\n",
      "Epoch 31/100\n",
      "17/17 [==============================] - 0s 6ms/step - loss: 2.5186 - mae: 1.9928 - val_loss: 3.8246 - val_mae: 3.1272\n",
      "Epoch 32/100\n",
      "11/17 [==================>...........] - ETA: 0s - loss: 2.3715 - mae: 1.8806\n",
      "Epoch 00032: val_mae improved from 3.42302 to 3.16123, saving model to audio_4.h5\n",
      "17/17 [==============================] - 0s 10ms/step - loss: 2.4227 - mae: 1.9337 - val_loss: 3.8879 - val_mae: 3.1612\n",
      "Epoch 33/100\n",
      "17/17 [==============================] - 0s 7ms/step - loss: 2.4432 - mae: 1.9433 - val_loss: 4.4507 - val_mae: 3.4460\n",
      "Epoch 34/100\n",
      "11/17 [==================>...........] - ETA: 0s - loss: 2.4266 - mae: 1.9458\n",
      "Epoch 00034: val_mae did not improve from 3.16123\n",
      "17/17 [==============================] - 0s 6ms/step - loss: 2.4008 - mae: 1.9044 - val_loss: 4.5567 - val_mae: 3.6746\n",
      "Epoch 35/100\n",
      "17/17 [==============================] - 0s 7ms/step - loss: 2.3503 - mae: 1.8781 - val_loss: 4.7007 - val_mae: 3.7706\n",
      "Epoch 36/100\n",
      "10/17 [================>.............] - ETA: 0s - loss: 2.2738 - mae: 1.8120\n",
      "Epoch 00036: val_mae did not improve from 3.16123\n",
      "17/17 [==============================] - 0s 7ms/step - loss: 2.2529 - mae: 1.7941 - val_loss: 4.4462 - val_mae: 3.6051\n",
      "Epoch 37/100\n",
      "17/17 [==============================] - 0s 7ms/step - loss: 2.3941 - mae: 1.8985 - val_loss: 4.1443 - val_mae: 3.3552\n",
      "Epoch 38/100\n",
      "10/17 [================>.............] - ETA: 0s - loss: 2.6245 - mae: 2.0935\n",
      "Epoch 00038: val_mae did not improve from 3.16123\n",
      "17/17 [==============================] - 0s 7ms/step - loss: 2.5706 - mae: 2.0490 - val_loss: 6.2604 - val_mae: 4.8665\n",
      "Epoch 39/100\n",
      "17/17 [==============================] - 0s 7ms/step - loss: 2.3223 - mae: 1.8603 - val_loss: 5.1629 - val_mae: 3.9534\n",
      "Epoch 40/100\n",
      "10/17 [================>.............] - ETA: 0s - loss: 2.2114 - mae: 1.7360\n",
      "Epoch 00040: val_mae did not improve from 3.16123\n",
      "17/17 [==============================] - 0s 7ms/step - loss: 2.3104 - mae: 1.7888 - val_loss: 4.5786 - val_mae: 3.5494\n"
     ]
    },
    {
     "name": "stdout",
     "output_type": "stream",
     "text": [
      "Epoch 41/100\n",
      "17/17 [==============================] - 0s 7ms/step - loss: 2.2193 - mae: 1.7590 - val_loss: 5.3690 - val_mae: 4.1280\n",
      "Epoch 42/100\n",
      "11/17 [==================>...........] - ETA: 0s - loss: 2.4204 - mae: 1.9796\n",
      "Epoch 00042: val_mae did not improve from 3.16123\n",
      "17/17 [==============================] - 0s 7ms/step - loss: 2.4322 - mae: 1.9608 - val_loss: 5.0239 - val_mae: 3.9209\n",
      "Epoch 43/100\n",
      "17/17 [==============================] - 0s 8ms/step - loss: 2.2645 - mae: 1.7940 - val_loss: 4.5794 - val_mae: 3.9205\n",
      "Epoch 44/100\n",
      "10/17 [================>.............] - ETA: 0s - loss: 2.3181 - mae: 1.8174\n",
      "Epoch 00044: val_mae did not improve from 3.16123\n",
      "17/17 [==============================] - 0s 7ms/step - loss: 2.3746 - mae: 1.8674 - val_loss: 4.3336 - val_mae: 3.3931\n",
      "Epoch 45/100\n",
      "17/17 [==============================] - 0s 6ms/step - loss: 2.0979 - mae: 1.6366 - val_loss: 4.6727 - val_mae: 3.5891\n",
      "Epoch 46/100\n",
      "10/17 [================>.............] - ETA: 0s - loss: 2.1477 - mae: 1.7229\n",
      "Epoch 00046: val_mae did not improve from 3.16123\n",
      "17/17 [==============================] - 0s 7ms/step - loss: 2.3027 - mae: 1.8802 - val_loss: 4.4847 - val_mae: 3.5311\n",
      "Epoch 47/100\n",
      "17/17 [==============================] - 0s 6ms/step - loss: 2.2492 - mae: 1.7611 - val_loss: 4.7006 - val_mae: 3.6988\n",
      "Epoch 48/100\n",
      "11/17 [==================>...........] - ETA: 0s - loss: 2.3975 - mae: 1.9212\n",
      "Epoch 00048: val_mae did not improve from 3.16123\n",
      "17/17 [==============================] - 0s 7ms/step - loss: 2.2743 - mae: 1.8195 - val_loss: 4.3439 - val_mae: 3.5277\n",
      "Epoch 49/100\n",
      "17/17 [==============================] - 0s 7ms/step - loss: 2.0320 - mae: 1.5864 - val_loss: 3.9703 - val_mae: 3.2505\n",
      "Epoch 50/100\n",
      "10/17 [================>.............] - ETA: 0s - loss: 1.8926 - mae: 1.5522\n",
      "Epoch 00050: val_mae did not improve from 3.16123\n",
      "17/17 [==============================] - 0s 7ms/step - loss: 1.9998 - mae: 1.6102 - val_loss: 4.9721 - val_mae: 3.8440\n",
      "Epoch 51/100\n",
      "17/17 [==============================] - 0s 8ms/step - loss: 2.0752 - mae: 1.6445 - val_loss: 5.5169 - val_mae: 4.3050\n",
      "Epoch 00051: early stopping\n"
     ]
    }
   ],
   "source": [
    "early_stopping = EarlyStopping(monitor='val_mae', patience=20, verbose=2)\n",
    "checkpoint = ModelCheckpoint('audio_4.h5', monitor='val_mae', verbose=1,save_best_only=True,mode='min',period=2)\n",
    "callbacks_list=[checkpoint,early_stopping]\n",
    "history=tcn.fit(x_train,y_train,validation_data=(x_test,y_test),epochs=100,batch_size=32,callbacks=[callbacks_list])"
   ]
  },
  {
   "cell_type": "code",
   "execution_count": 13,
   "metadata": {},
   "outputs": [
    {
     "data": {
      "text/plain": [
       "dict_keys(['loss', 'mae', 'val_loss', 'val_mae'])"
      ]
     },
     "execution_count": 13,
     "metadata": {},
     "output_type": "execute_result"
    }
   ],
   "source": [
    "history.history.keys()"
   ]
  },
  {
   "cell_type": "code",
   "execution_count": 14,
   "metadata": {},
   "outputs": [
    {
     "data": {
      "text/plain": [
       "<matplotlib.legend.Legend at 0x2a705890880>"
      ]
     },
     "execution_count": 14,
     "metadata": {},
     "output_type": "execute_result"
    },
    {
     "data": {
      "image/png": "[encoded data removed]",
      "text/plain": [
       "<Figure size 432x288 with 1 Axes>"
      ]
     },
     "metadata": {
      "needs_background": "light"
     },
     "output_type": "display_data"
    }
   ],
   "source": [
    "history.history.keys() #查看history中存储了哪些参数\n",
    "plt.plot(history.epoch,history.history.get('val_mae'),'r',label='val_mae') #画出随着epoch增大loss的变化图\n",
    "plt.plot(history.epoch,history.history.get('mae'),'g',label='mae')#画出随着epoch增大准确率的变化图\n",
    "plt.legend(loc=0,ncol=2)"
   ]
  },
  {
   "cell_type": "code",
   "execution_count": 15,
   "metadata": {},
   "outputs": [
    {
     "data": {
      "text/plain": [
       "[<matplotlib.lines.Line2D at 0x2a705d40970>]"
      ]
     },
     "execution_count": 15,
     "metadata": {},
     "output_type": "execute_result"
    },
    {
     "data": {
      "image/png": "[encoded data removed]",
      "text/plain": [
       "<Figure size 432x288 with 1 Axes>"
      ]
     },
     "metadata": {
      "needs_background": "light"
     },
     "output_type": "display_data"
    }
   ],
   "source": [
    "history.history.keys() #查看history中存储了哪些参数\n",
    "plt.plot(history.epoch,history.history.get('val_loss'),'r',label='val_loss') #画出随着epoch增大loss的变化图\n",
    "plt.plot(history.epoch,history.history.get('loss'),'g',label='loss')#画出随着epoch增大准确率的变化图"
   ]
  },
  {
   "cell_type": "code",
   "execution_count": 16,
   "metadata": {},
   "outputs": [],
   "source": [
    "# model_name = 'audio_1.h5'\n",
    "# tcn.save(model_name)"
   ]
  },
  {
   "cell_type": "code",
   "execution_count": 17,
   "metadata": {},
   "outputs": [
    {
     "name": "stdout",
     "output_type": "stream",
     "text": [
      "2/2 [==============================] - 0s 997us/step - loss: 5.5169 - mae: 4.3050\n"
     ]
    },
    {
     "data": {
      "text/plain": [
       "[5.516875267028809, 4.30502462387085]"
      ]
     },
     "execution_count": 17,
     "metadata": {},
     "output_type": "execute_result"
    }
   ],
   "source": [
    "score_test = tcn.evaluate(x_test,y_test)\n",
    "score_test"
   ]
  },
  {
   "cell_type": "code",
   "execution_count": null,
   "metadata": {},
   "outputs": [],
   "source": []
  }
 ],
 "metadata": {
  "kernelspec": {
   "display_name": "Python 3",
   "language": "python",
   "name": "python3"
  },
  "language_info": {
   "codemirror_mode": {
    "name": "ipython",
    "version": 3
   },
   "file_extension": ".py",
   "mimetype": "text/x-python",
   "name": "python",
   "nbconvert_exporter": "python",
   "pygments_lexer": "ipython3",
   "version": "3.8.3"
  }
 },
 "nbformat": 4,
 "nbformat_minor": 4
}
