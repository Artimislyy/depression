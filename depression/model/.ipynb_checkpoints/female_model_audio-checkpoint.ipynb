{
 "cells": [
  {
   "cell_type": "code",
   "execution_count": 1,
   "metadata": {},
   "outputs": [],
   "source": [
    "from tensorflow.keras.callbacks import Callback\n",
    "import pandas as pd\n",
    "import random \n",
    "import numpy as np\n",
    "import math\n",
    "from matplotlib import pyplot as plt\n",
    "from matplotlib.pylab import mpl\n",
    "import tensorflow as tf\n",
    "from sklearn.preprocessing import MinMaxScaler,StandardScaler\n",
    "from tensorflow.keras import backend as K\n",
    "from tensorflow.keras.layers import LeakyReLU,Conv1D,Dense\n",
    "from tcn import TCN,tcn_full_summary\n",
    "from sklearn.metrics import mean_squared_error # 均方误差\n",
    "from tensorflow.keras.callbacks import LearningRateScheduler\n",
    "from tensorflow.keras.callbacks import EarlyStopping\n",
    "from tensorflow.keras import Input,Model,Sequential"
   ]
  },
  {
   "cell_type": "markdown",
   "metadata": {},
   "source": [
    "### Keras设置随机种子"
   ]
  },
  {
   "cell_type": "code",
   "execution_count": 2,
   "metadata": {},
   "outputs": [],
   "source": [
    "my_seed = 666\n",
    "np.random.seed(my_seed)\n",
    "random.seed(my_seed)\n",
    "tf.random.set_seed(my_seed)"
   ]
  },
  {
   "cell_type": "code",
   "execution_count": 3,
   "metadata": {},
   "outputs": [],
   "source": [
    "female_train_audio_path = 'H:/data/audio_data/female_train_D_feature/female_train_D_audio.csv'\n",
    "female_dev_audio_path = 'H:/dev_data/audio_data/female_dev_D_feature/female_dev_D_audio.csv'\n",
    "female_dev_audio_path2 = 'H:/dev_data/audio_data/female_dev_ND_feature/female_dev_ND_audio.csv'\n",
    "female_train_audio_path2 = 'H:/data/audio_data/female_train_ND_feature/female_train_ND_audio.csv'\n",
    "\n",
    "male_train_audio_path = 'H:/data/audio_data/male_train_D_feature/male_train_D_audio.csv'\n",
    "male_dev_audio_path = 'H:/dev_data/audio_data/male_dev_D_feature/male_dev_D_audio.csv'\n",
    "male_dev_audio_path2 = 'H:/dev_data/audio_data/male_dev_ND_feature/male_dev_ND_audio.csv'\n",
    "male_train_audio_path2 = 'H:/data/audio_data/male_train_ND_feature/male_train_ND_audio.csv'\n",
    "\n",
    "df = pd.read_csv(female_train_audio_path,index_col=0)\n",
    "df2 = pd.read_csv(female_dev_audio_path,index_col=0)\n",
    "df3 = pd.read_csv(female_dev_audio_path2,index_col=0)\n",
    "df4 = pd.read_csv(female_train_audio_path2,index_col=0)\n",
    "\n",
    "df5 = pd.read_csv(male_train_audio_path,index_col=0)\n",
    "df6 = pd.read_csv(male_dev_audio_path,index_col=0)\n",
    "df7 = pd.read_csv(male_dev_audio_path2,index_col=0)\n",
    "df8 = pd.read_csv(male_train_audio_path2,index_col=0)\n",
    "\n",
    "df = pd.concat([df,df2,df3,df4,df5,df6,df7,df8],ignore_index=True)\n",
    "df = df.sample(frac=1.0).reset_index(drop=True)"
   ]
  },
  {
   "cell_type": "code",
   "execution_count": 4,
   "metadata": {},
   "outputs": [
    {
     "data": {
      "text/plain": [
       "((578, 6374), (108, 6374), (104, 6374), (100, 6374))"
      ]
     },
     "execution_count": 4,
     "metadata": {},
     "output_type": "execute_result"
    }
   ],
   "source": [
    "df.shape,df4.shape,df5.shape,df8.shape"
   ]
  },
  {
   "cell_type": "code",
   "execution_count": 5,
   "metadata": {},
   "outputs": [
    {
     "data": {
      "text/plain": [
       "((42, 6374), (42, 6374), (40, 6374), (40, 6374))"
      ]
     },
     "execution_count": 5,
     "metadata": {},
     "output_type": "execute_result"
    }
   ],
   "source": [
    "df2.shape,df3.shape,df6.shape,df7.shape"
   ]
  },
  {
   "cell_type": "markdown",
   "metadata": {},
   "source": [
    "### 对数据进行归一化"
   ]
  },
  {
   "cell_type": "code",
   "execution_count": 6,
   "metadata": {},
   "outputs": [],
   "source": [
    "len1 = int(df.shape[0]*0.9)\n",
    "train=df[:len1]\n",
    "test=df[len1:]\n",
    "#不对y进行归一化\n",
    "X_Train=train.iloc[:,:-1]\n",
    "Y_train=train.iloc[:,-1:]\n",
    "X_Test=test.iloc[:,:-1]\n",
    "Y_test=test.iloc[:,-1:]"
   ]
  },
  {
   "cell_type": "code",
   "execution_count": 7,
   "metadata": {},
   "outputs": [],
   "source": [
    "# 标准化\n",
    "# scaler = StandardScaler().fit(X_Train)\n",
    "# X_train = pd.DataFrame(scaler.transform(X_Train))\n",
    "# X_test = pd.DataFrame(scaler.transform(X_Test))\n",
    "# #归一化\n",
    "df = df.iloc[:,:-1]\n",
    "scaler = MinMaxScaler(feature_range=(0,1)).fit(df)\n",
    "X_train=pd.DataFrame(scaler.fit_transform(X_Train))\n",
    "X_test=pd.DataFrame(scaler.transform(X_Test))"
   ]
  },
  {
   "cell_type": "code",
   "execution_count": 8,
   "metadata": {},
   "outputs": [],
   "source": [
    "# x_train = X_train\n",
    "# y_train = Y_train\n",
    "# x_test = X_test\n",
    "# y_test = Y_test"
   ]
  },
  {
   "cell_type": "markdown",
   "metadata": {},
   "source": [
    "### 转换为3维数据 [samples, timesteps, features]"
   ]
  },
  {
   "cell_type": "code",
   "execution_count": 9,
   "metadata": {},
   "outputs": [],
   "source": [
    "source_x_train=X_train\n",
    "source_x_test=X_test\n",
    "x_train=X_train.values.reshape([X_train.shape[0],1,X_train.shape[1]]) \n",
    "x_test=X_test.values.reshape([X_test.shape[0],1,X_test.shape[1]])  \n",
    "y_train=Y_train.values\n",
    "y_test=Y_test.values"
   ]
  },
  {
   "cell_type": "code",
   "execution_count": 10,
   "metadata": {},
   "outputs": [
    {
     "data": {
      "text/plain": [
       "((520, 1, 6373), (520, 1), (58, 1, 6373), (58, 1))"
      ]
     },
     "execution_count": 10,
     "metadata": {},
     "output_type": "execute_result"
    }
   ],
   "source": [
    "x_train.shape,y_train.shape,x_test.shape,y_test.shape"
   ]
  },
  {
   "cell_type": "markdown",
   "metadata": {},
   "source": [
    "### 构造TCN模型"
   ]
  },
  {
   "cell_type": "code",
   "execution_count": 11,
   "metadata": {},
   "outputs": [
    {
     "name": "stdout",
     "output_type": "stream",
     "text": [
      "Model: \"sequential\"\n",
      "_________________________________________________________________\n",
      "Layer (type)                 Output Shape              Param #   \n",
      "=================================================================\n",
      "tcn (TCN)                    (None, 32)                623040    \n",
      "_________________________________________________________________\n",
      "dense (Dense)                (None, 1)                 33        \n",
      "=================================================================\n",
      "Total params: 623,073\n",
      "Trainable params: 622,689\n",
      "Non-trainable params: 384\n",
      "_________________________________________________________________\n"
     ]
    }
   ],
   "source": [
    "batch_size=None\n",
    "timesteps=x_train.shape[1]\n",
    "# timesteps = 15\n",
    "input_dim=x_train.shape[2] #输入维数\n",
    "tcn = Sequential()\n",
    "input_layer =Input(batch_shape=(batch_size,timesteps,input_dim))\n",
    "tcn.add(input_layer)\n",
    "tcn.add(TCN(nb_filters=32, #在卷积层中使用的过滤器数。可以是列表。\n",
    "        kernel_size=2, #在每个卷积层中使用的内核大小。\n",
    "        nb_stacks=1,   #要使用的残差块的堆栈数。\n",
    "        dilations=[2 ** i for i in range(3)], #扩张列表。示例为：[1、2、4、8、16、32、64]。\n",
    "        #用于卷积层中的填充,值为'causal' 或'same'。\n",
    "        #“causal”将产生因果（膨胀的）卷积，即output[t]不依赖于input[t+1：]。当对不能违反时间顺序的时序信号建模时有用。\n",
    "        #“same”代表保留边界处的卷积结果，通常会导致输出shape与输入shape相同。\n",
    "        padding='causal',\n",
    "        use_skip_connections=True, #是否要添加从输入到每个残差块的跳过连接。\n",
    "        dropout_rate=0.2, #在0到1之间浮动。要下降的输入单位的分数。\n",
    "        return_sequences=False,#是返回输出序列中的最后一个输出还是完整序列。\n",
    "        activation='relu', #残差块中使用的激活函数 o = Activation(x + F(x)).\n",
    "        kernel_initializer='he_normal', #内核权重矩阵（Conv1D）的初始化程序。\n",
    "        use_batch_norm=True, #是否在残差层中使用批处理规范化。\n",
    "#         use_layer_norm=False, #是否在残差层中使用层归一化。\n",
    "        name='tcn' #使用多个TCN时，要使用唯一的名称\n",
    "        ))\n",
    "# tcn.add(tf.keras.layers.Dense(64))\n",
    "# tcn.add(tf.keras.layers.LeakyReLU(alpha=0.3))\n",
    "# tcn.add(tf.keras.layers.Dense(32))\n",
    "# tcn.add(tf.keras.layers.LeakyReLU(alpha=0.3))\n",
    "# tcn.add(tf.keras.layers.Dropout(rate=0.3))\n",
    "# tcn.add(tf.keras.layers.Dense(8))\n",
    "# tcn.add(tf.keras.layers.LeakyReLU())\n",
    "tcn.add(tf.keras.layers.Dense(1))\n",
    "# tcn.add(tf.keras.layers.LeakyReLU(alpha=0.3))\n",
    "tcn.compile('adam', loss='mse', metrics=['mae'])\n",
    "tcn.summary()"
   ]
  },
  {
   "cell_type": "code",
   "execution_count": 12,
   "metadata": {},
   "outputs": [
    {
     "name": "stdout",
     "output_type": "stream",
     "text": [
      "Epoch 1/60\n",
      "9/9 [==============================] - 0s 35ms/step - loss: 101.1035 - mae: 8.3024 - val_loss: 72.4470 - val_mae: 7.1397\n",
      "Epoch 2/60\n",
      "9/9 [==============================] - 0s 9ms/step - loss: 89.4638 - mae: 7.7747 - val_loss: 67.6701 - val_mae: 6.8810\n",
      "Epoch 3/60\n",
      "9/9 [==============================] - 0s 9ms/step - loss: 79.9163 - mae: 7.3629 - val_loss: 49.0917 - val_mae: 5.8571\n",
      "Epoch 4/60\n",
      "9/9 [==============================] - 0s 8ms/step - loss: 69.8015 - mae: 6.8972 - val_loss: 46.4634 - val_mae: 5.6323\n",
      "Epoch 5/60\n",
      "9/9 [==============================] - 0s 8ms/step - loss: 61.2137 - mae: 6.3655 - val_loss: 41.0676 - val_mae: 5.1969\n",
      "Epoch 6/60\n",
      "9/9 [==============================] - 0s 8ms/step - loss: 56.1506 - mae: 6.1538 - val_loss: 40.9419 - val_mae: 5.0716\n",
      "Epoch 7/60\n",
      "9/9 [==============================] - 0s 8ms/step - loss: 49.1618 - mae: 5.6508 - val_loss: 44.9427 - val_mae: 5.2224\n",
      "Epoch 8/60\n",
      "9/9 [==============================] - 0s 9ms/step - loss: 41.0156 - mae: 5.2318 - val_loss: 43.0024 - val_mae: 5.1504\n",
      "Epoch 9/60\n",
      "9/9 [==============================] - 0s 8ms/step - loss: 36.2024 - mae: 4.8869 - val_loss: 41.6474 - val_mae: 5.2124\n",
      "Epoch 10/60\n",
      "9/9 [==============================] - 0s 9ms/step - loss: 31.1347 - mae: 4.5560 - val_loss: 36.3947 - val_mae: 4.8156\n",
      "Epoch 11/60\n",
      "9/9 [==============================] - 0s 9ms/step - loss: 27.6442 - mae: 4.1657 - val_loss: 38.7141 - val_mae: 4.9536\n",
      "Epoch 12/60\n",
      "9/9 [==============================] - 0s 9ms/step - loss: 23.5283 - mae: 3.8941 - val_loss: 44.5692 - val_mae: 5.4891\n",
      "Epoch 13/60\n",
      "9/9 [==============================] - 0s 10ms/step - loss: 21.1453 - mae: 3.6299 - val_loss: 45.2927 - val_mae: 5.3984\n",
      "Epoch 14/60\n",
      "9/9 [==============================] - 0s 9ms/step - loss: 17.3334 - mae: 3.3963 - val_loss: 39.6201 - val_mae: 4.9762\n",
      "Epoch 15/60\n",
      "9/9 [==============================] - 0s 9ms/step - loss: 15.0099 - mae: 3.1303 - val_loss: 39.4194 - val_mae: 4.9155\n",
      "Epoch 16/60\n",
      "9/9 [==============================] - 0s 8ms/step - loss: 13.7142 - mae: 2.8963 - val_loss: 37.7586 - val_mae: 5.0680\n",
      "Epoch 17/60\n",
      "9/9 [==============================] - 0s 8ms/step - loss: 13.1403 - mae: 2.8500 - val_loss: 37.3527 - val_mae: 4.8328\n",
      "Epoch 18/60\n",
      "9/9 [==============================] - 0s 8ms/step - loss: 12.0825 - mae: 2.7496 - val_loss: 40.1259 - val_mae: 4.9920\n",
      "Epoch 19/60\n",
      "9/9 [==============================] - 0s 9ms/step - loss: 11.5463 - mae: 2.6231 - val_loss: 37.5573 - val_mae: 4.8523\n",
      "Epoch 20/60\n",
      "9/9 [==============================] - 0s 9ms/step - loss: 10.3318 - mae: 2.5403 - val_loss: 29.6211 - val_mae: 4.4488\n",
      "Epoch 21/60\n",
      "9/9 [==============================] - 0s 10ms/step - loss: 8.8666 - mae: 2.3586 - val_loss: 31.1050 - val_mae: 4.5091\n",
      "Epoch 22/60\n",
      "9/9 [==============================] - 0s 9ms/step - loss: 8.3832 - mae: 2.2891 - val_loss: 32.1343 - val_mae: 4.5892\n",
      "Epoch 23/60\n",
      "9/9 [==============================] - 0s 9ms/step - loss: 8.7602 - mae: 2.3307 - val_loss: 28.3636 - val_mae: 4.2733\n",
      "Epoch 24/60\n",
      "9/9 [==============================] - 0s 9ms/step - loss: 8.7027 - mae: 2.3153 - val_loss: 26.0363 - val_mae: 4.1006\n",
      "Epoch 25/60\n",
      "9/9 [==============================] - 0s 9ms/step - loss: 8.3351 - mae: 2.2009 - val_loss: 23.1949 - val_mae: 3.8551\n",
      "Epoch 26/60\n",
      "9/9 [==============================] - 0s 8ms/step - loss: 8.1891 - mae: 2.2579 - val_loss: 26.0770 - val_mae: 4.2074\n",
      "Epoch 27/60\n",
      "9/9 [==============================] - 0s 8ms/step - loss: 7.8825 - mae: 2.2300 - val_loss: 27.0463 - val_mae: 4.1729\n",
      "Epoch 28/60\n",
      "9/9 [==============================] - 0s 8ms/step - loss: 6.6333 - mae: 1.9795 - val_loss: 26.4657 - val_mae: 4.1176\n",
      "Epoch 29/60\n",
      "9/9 [==============================] - 0s 8ms/step - loss: 7.0090 - mae: 2.0377 - val_loss: 30.2542 - val_mae: 4.2555\n",
      "Epoch 30/60\n",
      "9/9 [==============================] - 0s 11ms/step - loss: 7.3207 - mae: 2.1437 - val_loss: 32.4591 - val_mae: 4.4505\n",
      "Epoch 31/60\n",
      "9/9 [==============================] - 0s 8ms/step - loss: 6.8947 - mae: 2.0469 - val_loss: 31.3778 - val_mae: 4.5170\n",
      "Epoch 32/60\n",
      "9/9 [==============================] - 0s 9ms/step - loss: 6.4914 - mae: 1.9855 - val_loss: 32.8186 - val_mae: 4.4312\n",
      "Epoch 33/60\n",
      "9/9 [==============================] - 0s 9ms/step - loss: 6.4320 - mae: 1.9514 - val_loss: 28.0709 - val_mae: 4.2439\n",
      "Epoch 34/60\n",
      "9/9 [==============================] - 0s 9ms/step - loss: 6.4992 - mae: 1.9364 - val_loss: 26.5400 - val_mae: 4.4436\n",
      "Epoch 35/60\n",
      "9/9 [==============================] - 0s 10ms/step - loss: 6.4393 - mae: 1.9320 - val_loss: 26.3349 - val_mae: 4.1547\n",
      "Epoch 00035: early stopping\n"
     ]
    }
   ],
   "source": [
    "early_stopping = EarlyStopping(monitor='val_mae', patience=10, verbose=2)\n",
    "history=tcn.fit(x_train,y_train,validation_data=(x_test,y_test),epochs=60,batch_size=64,callbacks=[early_stopping])"
   ]
  },
  {
   "cell_type": "code",
   "execution_count": 13,
   "metadata": {},
   "outputs": [
    {
     "data": {
      "text/plain": [
       "dict_keys(['loss', 'mae', 'val_loss', 'val_mae'])"
      ]
     },
     "execution_count": 13,
     "metadata": {},
     "output_type": "execute_result"
    }
   ],
   "source": [
    "history.history.keys()"
   ]
  },
  {
   "cell_type": "code",
   "execution_count": 14,
   "metadata": {},
   "outputs": [
    {
     "data": {
      "text/plain": [
       "<matplotlib.legend.Legend at 0x232ef87f070>"
      ]
     },
     "execution_count": 14,
     "metadata": {},
     "output_type": "execute_result"
    },
    {
     "data": {
      "image/png": "[encoded data removed]",
      "text/plain": [
       "<Figure size 432x288 with 1 Axes>"
      ]
     },
     "metadata": {
      "needs_background": "light"
     },
     "output_type": "display_data"
    }
   ],
   "source": [
    "history.history.keys() #查看history中存储了哪些参数\n",
    "plt.plot(history.epoch,history.history.get('val_mae'),'r',label='val_mae') #画出随着epoch增大loss的变化图\n",
    "plt.plot(history.epoch,history.history.get('mae'),'g',label='mae')#画出随着epoch增大准确率的变化图\n",
    "plt.legend(loc=0,ncol=2)\n",
    "# plt.xlim(0,3)\n",
    "# plt.ylim(0,4)"
   ]
  },
  {
   "cell_type": "code",
   "execution_count": 15,
   "metadata": {},
   "outputs": [
    {
     "data": {
      "text/plain": [
       "<matplotlib.legend.Legend at 0x232ecf42520>"
      ]
     },
     "execution_count": 15,
     "metadata": {},
     "output_type": "execute_result"
    },
    {
     "data": {
      "image/png": "[encoded data removed]",
      "text/plain": [
       "<Figure size 432x288 with 1 Axes>"
      ]
     },
     "metadata": {
      "needs_background": "light"
     },
     "output_type": "display_data"
    }
   ],
   "source": [
    "history.history.keys() #查看history中存储了哪些参数\n",
    "plt.plot(history.epoch,history.history.get('val_loss'),'r',label='val_loss') #画出随着epoch增大loss的变化图\n",
    "plt.plot(history.epoch,history.history.get('loss'),'g',label='loss')#画出随着epoch增大准确率的变化图\n",
    "plt.legend(loc=0,ncol=2)\n",
    "# plt.xlim(0,80)\n",
    "# plt.ylim(0,20)"
   ]
  },
  {
   "cell_type": "code",
   "execution_count": 16,
   "metadata": {},
   "outputs": [
    {
     "name": "stdout",
     "output_type": "stream",
     "text": [
      "2/2 [==============================] - 0s 1ms/step - loss: 26.3349 - mae: 4.1547\n"
     ]
    },
    {
     "data": {
      "text/plain": [
       "[26.334877014160156, 4.154650688171387]"
      ]
     },
     "execution_count": 16,
     "metadata": {},
     "output_type": "execute_result"
    }
   ],
   "source": [
    "score_test = tcn.evaluate(x_test,y_test)\n",
    "score_test"
   ]
  },
  {
   "cell_type": "code",
   "execution_count": 17,
   "metadata": {},
   "outputs": [],
   "source": [
    "real_predict = tcn.predict(x_test)\n",
    "real_y = y_test\n",
    "real_y = real_y.reshape(len(real_y),1)\n",
    "real_predict = real_predict.reshape(len(real_predict),1)"
   ]
  },
  {
   "cell_type": "code",
   "execution_count": 18,
   "metadata": {
    "scrolled": false
   },
   "outputs": [
    {
     "name": "stdout",
     "output_type": "stream",
     "text": [
      "58\n",
      "[16.] [8.849446]\n",
      "[18.] [6.028298]\n",
      "[20.] [6.5661054]\n",
      "[9.] [11.630131]\n",
      "[18.] [9.7136345]\n",
      "[4.] [10.6770735]\n",
      "[11.] [5.3004913]\n",
      "[13.] [9.19333]\n",
      "[9.] [10.571454]\n",
      "[19.] [9.200082]\n",
      "[17.] [9.259896]\n",
      "[14.] [8.296251]\n",
      "45\n"
     ]
    }
   ],
   "source": [
    "sum1 = 0\n",
    "print(real_y.shape[0])\n",
    "for i in range(real_y.shape[0]):\n",
    "#     print(real_y[i],real_predict[i])\n",
    "    if(real_y[i]>=10 and real_predict[i]>=10):\n",
    "        sum1 = sum1 + 1\n",
    "    if(real_y[i]<10 and real_predict[i]<10):\n",
    "        sum1 = sum1 + 1\n",
    "    if(real_y[i]<10 and real_predict[i]>10):\n",
    "        print(real_y[i],real_predict[i])\n",
    "    if(real_y[i]>10 and real_predict[i]<10):\n",
    "        print(real_y[i],real_predict[i])\n",
    "print(sum1)"
   ]
  },
  {
   "cell_type": "code",
   "execution_count": 19,
   "metadata": {},
   "outputs": [],
   "source": [
    "model_name = 'female_audio.h5'\n",
    "tcn.save(model_name)"
   ]
  },
  {
   "cell_type": "code",
   "execution_count": null,
   "metadata": {},
   "outputs": [],
   "source": []
  }
 ],
 "metadata": {
  "kernelspec": {
   "display_name": "Python 3",
   "language": "python",
   "name": "python3"
  },
  "language_info": {
   "codemirror_mode": {
    "name": "ipython",
    "version": 3
   },
   "file_extension": ".py",
   "mimetype": "text/x-python",
   "name": "python",
   "nbconvert_exporter": "python",
   "pygments_lexer": "ipython3",
   "version": "3.8.3"
  }
 },
 "nbformat": 4,
 "nbformat_minor": 4
}
