{
 "cells": [
  {
   "cell_type": "code",
   "execution_count": 1,
   "metadata": {},
   "outputs": [],
   "source": [
    "from tensorflow.keras.callbacks import Callback\n",
    "import pandas as pd\n",
    "import random \n",
    "import numpy as np\n",
    "import math\n",
    "from matplotlib import pyplot as plt\n",
    "from matplotlib.pylab import mpl\n",
    "import tensorflow as tf\n",
    "from sklearn.preprocessing import MinMaxScaler,StandardScaler\n",
    "from tensorflow.keras import backend as K\n",
    "from tensorflow.keras.layers import LeakyReLU,Conv1D,Dense\n",
    "from tcn import TCN,tcn_full_summary\n",
    "from sklearn.metrics import mean_squared_error # 均方误差\n",
    "from tensorflow.keras.callbacks import LearningRateScheduler\n",
    "from tensorflow.keras.callbacks import EarlyStopping\n",
    "from tensorflow.keras import Input,Model,Sequential"
   ]
  },
  {
   "cell_type": "code",
   "execution_count": 2,
   "metadata": {},
   "outputs": [],
   "source": [
    "my_seed = 666\n",
    "np.random.seed(my_seed)\n",
    "random.seed(my_seed)\n",
    "tf.random.set_seed(my_seed)"
   ]
  },
  {
   "cell_type": "code",
   "execution_count": 3,
   "metadata": {},
   "outputs": [],
   "source": [
    "female_train_vidio_path = 'H:/data/vidio_data/female_train_D_feature/female_train_D_vidio.csv'\n",
    "female_dev_vidio_path = 'H:/dev_data/vidio_data/female_dev_D_feature/female_dev_D_vidio.csv'\n",
    "female_dev_vidio_path2 = 'H:/dev_data/vidio_data/female_dev_ND_feature/female_dev_ND_vidio.csv'\n",
    "female_train_vidio_path2 = 'H:/data/vidio_data/female_train_ND_feature/female_train_ND_vidio.csv'\n",
    "\n",
    "male_train_vidio_path = 'H:/data/vidio_data/male_train_D_feature/male_train_D_vidio.csv'\n",
    "male_dev_vidio_path = 'H:/dev_data/vidio_data/male_dev_D_feature/male_dev_D_vidio.csv'\n",
    "male_dev_vidio_path2 = 'H:/dev_data/vidio_data/male_dev_ND_feature/male_dev_ND_vidio.csv'\n",
    "male_train_vidio_path2 = 'H:/data/vidio_data/male_train_ND_feature/male_train_ND_vidio.csv'\n",
    "\n",
    "df1 = pd.read_csv(female_train_vidio_path,index_col=0)\n",
    "df2 = pd.read_csv(female_dev_vidio_path,index_col=0)\n",
    "df3 = pd.read_csv(female_dev_vidio_path2,index_col=0)\n",
    "df4 = pd.read_csv(female_train_vidio_path2,index_col=0)\n",
    "\n",
    "df5 = pd.read_csv(male_train_vidio_path,index_col=0)\n",
    "df6 = pd.read_csv(male_dev_vidio_path,index_col=0)\n",
    "df7 = pd.read_csv(male_dev_vidio_path2,index_col=0)\n",
    "df8 = pd.read_csv(male_train_vidio_path2,index_col=0)\n",
    "\n",
    "df = pd.concat([df1,df2,df3,df4,df5,df6,df7,df8],ignore_index=True)\n",
    "# df = pd.concat([df,df2,df3,df4],ignore_index=True)\n",
    "df = df.sample(frac=1.0).reset_index(drop=True)"
   ]
  },
  {
   "cell_type": "code",
   "execution_count": 4,
   "metadata": {},
   "outputs": [],
   "source": [
    "# len1 = int(df.shape[0]*0.8)\n",
    "train=df\n",
    "# test=df[len1:]\n",
    "#不对y进行归一化\n",
    "X_train=train.iloc[:,:-1]\n",
    "Y_train=train.iloc[:,-1:]\n",
    "# X_test=test.iloc[:,:-1]\n",
    "# Y_test=test.iloc[:,-1:]"
   ]
  },
  {
   "cell_type": "code",
   "execution_count": 5,
   "metadata": {},
   "outputs": [],
   "source": [
    "# 标准化\n",
    "# scaler = StandardScaler().fit(X_Train)\n",
    "# X_train = pd.DataFrame(scaler.transform(X_Train))\n",
    "# X_test = pd.DataFrame(scaler.transform(X_Test))\n",
    "# #归一化\n",
    "df = df.iloc[:,:-1]\n",
    "scaler = MinMaxScaler(feature_range=(0,1)).fit(df)\n",
    "X_train=pd.DataFrame(scaler.fit_transform(X_train))\n",
    "# X_test=pd.DataFrame(scaler.transform(X_test))"
   ]
  },
  {
   "cell_type": "code",
   "execution_count": 6,
   "metadata": {},
   "outputs": [],
   "source": [
    "x_train=X_train.values.reshape([X_train.shape[0],1,X_train.shape[1]]) \n",
    "y_train=Y_train.values"
   ]
  },
  {
   "cell_type": "code",
   "execution_count": 7,
   "metadata": {},
   "outputs": [
    {
     "data": {
      "text/plain": [
       "((578, 1, 4080), (578, 1))"
      ]
     },
     "execution_count": 7,
     "metadata": {},
     "output_type": "execute_result"
    }
   ],
   "source": [
    "x_train.shape,y_train.shape"
   ]
  },
  {
   "cell_type": "code",
   "execution_count": 8,
   "metadata": {},
   "outputs": [
    {
     "name": "stdout",
     "output_type": "stream",
     "text": [
      "Model: \"sequential\"\n",
      "_________________________________________________________________\n",
      "Layer (type)                 Output Shape              Param #   \n",
      "=================================================================\n",
      "tcn (TCN)                    (None, 32)                407328    \n",
      "_________________________________________________________________\n",
      "dense (Dense)                (None, 1)                 33        \n",
      "=================================================================\n",
      "Total params: 407,361\n",
      "Trainable params: 406,849\n",
      "Non-trainable params: 512\n",
      "_________________________________________________________________\n"
     ]
    }
   ],
   "source": [
    "batch_size=None\n",
    "timesteps=x_train.shape[1]\n",
    "# timesteps = 15\n",
    "input_dim=x_train.shape[2] #输入维数\n",
    "tcn = Sequential()\n",
    "input_layer =Input(batch_shape=(batch_size,timesteps,input_dim))\n",
    "tcn.add(input_layer)\n",
    "tcn.add(TCN(nb_filters=32, #在卷积层中使用的过滤器数。可以是列表。\n",
    "        kernel_size=2, #在每个卷积层中使用的内核大小。\n",
    "        nb_stacks=1,   #要使用的残差块的堆栈数。\n",
    "        dilations=[2 ** i for i in range(4)], #扩张列表。示例为：[1、2、4、8、16、32、64]。\n",
    "        #用于卷积层中的填充,值为'causal' 或'same'。\n",
    "        #“causal”将产生因果（膨胀的）卷积，即output[t]不依赖于input[t+1：]。当对不能违反时间顺序的时序信号建模时有用。\n",
    "        #“same”代表保留边界处的卷积结果，通常会导致输出shape与输入shape相同。\n",
    "        padding='causal',\n",
    "        use_skip_connections=True, #是否要添加从输入到每个残差块的跳过连接。\n",
    "        dropout_rate=0.2, #在0到1之间浮动。要下降的输入单位的分数。\n",
    "        return_sequences=False,#是返回输出序列中的最后一个输出还是完整序列。\n",
    "        activation='relu', #残差块中使用的激活函数 o = Activation(x + F(x)).\n",
    "        kernel_initializer='he_normal', #内核权重矩阵（Conv1D）的初始化程序。\n",
    "        use_batch_norm=True, #是否在残差层中使用批处理规范化。\n",
    "#         use_layer_norm=False, #是否在残差层中使用层归一化。\n",
    "        name='tcn' #使用多个TCN时，要使用唯一的名称\n",
    "        ))\n",
    "tcn.add(tf.keras.layers.Dense(1))\n",
    "tcn.compile('adam', loss='mse', metrics=['mae'])\n",
    "tcn.summary()"
   ]
  },
  {
   "cell_type": "code",
   "execution_count": 9,
   "metadata": {},
   "outputs": [
    {
     "name": "stdout",
     "output_type": "stream",
     "text": [
      "Epoch 1/60\n",
      "8/8 [==============================] - 0s 41ms/step - loss: 129.9163 - mae: 9.5888 - val_loss: 316.1337 - val_mae: 16.4500\n",
      "Epoch 2/60\n",
      "8/8 [==============================] - 0s 9ms/step - loss: 113.1374 - mae: 8.9364 - val_loss: 240.0720 - val_mae: 14.1879\n",
      "Epoch 3/60\n",
      "8/8 [==============================] - 0s 8ms/step - loss: 101.5599 - mae: 8.3642 - val_loss: 192.5957 - val_mae: 12.4851\n",
      "Epoch 4/60\n",
      "8/8 [==============================] - 0s 8ms/step - loss: 93.7340 - mae: 7.9212 - val_loss: 163.8362 - val_mae: 11.3065\n",
      "Epoch 5/60\n",
      "8/8 [==============================] - 0s 9ms/step - loss: 82.8184 - mae: 7.4032 - val_loss: 145.8610 - val_mae: 10.4850\n",
      "Epoch 6/60\n",
      "8/8 [==============================] - 0s 8ms/step - loss: 73.9843 - mae: 6.9138 - val_loss: 125.3789 - val_mae: 9.5336\n",
      "Epoch 7/60\n",
      "8/8 [==============================] - 0s 8ms/step - loss: 65.0251 - mae: 6.5333 - val_loss: 103.4643 - val_mae: 8.4067\n",
      "Epoch 8/60\n",
      "8/8 [==============================] - 0s 8ms/step - loss: 60.1730 - mae: 6.2663 - val_loss: 87.3042 - val_mae: 7.5996\n",
      "Epoch 9/60\n",
      "8/8 [==============================] - 0s 8ms/step - loss: 55.0496 - mae: 5.9280 - val_loss: 74.1880 - val_mae: 6.9020\n",
      "Epoch 10/60\n",
      "8/8 [==============================] - 0s 8ms/step - loss: 47.6832 - mae: 5.5555 - val_loss: 74.6725 - val_mae: 6.9147\n",
      "Epoch 11/60\n",
      "8/8 [==============================] - 0s 8ms/step - loss: 43.4350 - mae: 5.2535 - val_loss: 81.2129 - val_mae: 7.2611\n",
      "Epoch 12/60\n",
      "8/8 [==============================] - 0s 8ms/step - loss: 39.0559 - mae: 4.9642 - val_loss: 78.8316 - val_mae: 7.1362\n",
      "Epoch 13/60\n",
      "8/8 [==============================] - 0s 8ms/step - loss: 35.3068 - mae: 4.7400 - val_loss: 79.6561 - val_mae: 7.1305\n",
      "Epoch 14/60\n",
      "8/8 [==============================] - 0s 8ms/step - loss: 31.2290 - mae: 4.3894 - val_loss: 91.2933 - val_mae: 7.7395\n",
      "Epoch 15/60\n",
      "8/8 [==============================] - 0s 8ms/step - loss: 30.4603 - mae: 4.3495 - val_loss: 87.9962 - val_mae: 7.6211\n",
      "Epoch 16/60\n",
      "8/8 [==============================] - 0s 8ms/step - loss: 25.9051 - mae: 4.0641 - val_loss: 71.1015 - val_mae: 6.7687\n",
      "Epoch 17/60\n",
      "8/8 [==============================] - 0s 8ms/step - loss: 25.9082 - mae: 4.0216 - val_loss: 69.7225 - val_mae: 6.6564\n",
      "Epoch 18/60\n",
      "8/8 [==============================] - 0s 8ms/step - loss: 22.4079 - mae: 3.7043 - val_loss: 69.2000 - val_mae: 6.6750\n",
      "Epoch 19/60\n",
      "8/8 [==============================] - 0s 8ms/step - loss: 23.1294 - mae: 3.8321 - val_loss: 51.2687 - val_mae: 5.8248\n",
      "Epoch 20/60\n",
      "8/8 [==============================] - 0s 8ms/step - loss: 20.7862 - mae: 3.6603 - val_loss: 63.4841 - val_mae: 6.4600\n",
      "Epoch 21/60\n",
      "8/8 [==============================] - 0s 8ms/step - loss: 20.6563 - mae: 3.6224 - val_loss: 41.8556 - val_mae: 5.4250\n",
      "Epoch 22/60\n",
      "8/8 [==============================] - 0s 8ms/step - loss: 21.1537 - mae: 3.5940 - val_loss: 44.0618 - val_mae: 5.5136\n",
      "Epoch 23/60\n",
      "8/8 [==============================] - 0s 8ms/step - loss: 18.4252 - mae: 3.3688 - val_loss: 55.9936 - val_mae: 6.0601\n",
      "Epoch 24/60\n",
      "8/8 [==============================] - 0s 8ms/step - loss: 17.8974 - mae: 3.3825 - val_loss: 68.0204 - val_mae: 6.5915\n",
      "Epoch 25/60\n",
      "8/8 [==============================] - 0s 8ms/step - loss: 16.5458 - mae: 3.1580 - val_loss: 55.8848 - val_mae: 6.0986\n",
      "Epoch 26/60\n",
      "8/8 [==============================] - 0s 9ms/step - loss: 17.2674 - mae: 3.2641 - val_loss: 69.9073 - val_mae: 6.7752\n",
      "Epoch 27/60\n",
      "8/8 [==============================] - 0s 8ms/step - loss: 15.3329 - mae: 3.1429 - val_loss: 62.1487 - val_mae: 6.2754\n",
      "Epoch 28/60\n",
      "8/8 [==============================] - 0s 9ms/step - loss: 16.8661 - mae: 3.2067 - val_loss: 85.5807 - val_mae: 7.4208\n",
      "Epoch 29/60\n",
      "8/8 [==============================] - 0s 9ms/step - loss: 14.9607 - mae: 3.1395 - val_loss: 53.3373 - val_mae: 5.9057\n",
      "Epoch 30/60\n",
      "8/8 [==============================] - 0s 8ms/step - loss: 13.7963 - mae: 2.9601 - val_loss: 55.1581 - val_mae: 5.9018\n",
      "Epoch 31/60\n",
      "8/8 [==============================] - 0s 8ms/step - loss: 13.2264 - mae: 2.9052 - val_loss: 63.0971 - val_mae: 6.2888\n",
      "Epoch 00031: early stopping\n"
     ]
    }
   ],
   "source": [
    "early_stopping = EarlyStopping(monitor='val_mae', patience=10, verbose=2)\n",
    "history=tcn.fit(x_train,y_train,validation_split=0.2,epochs=60,batch_size=64,callbacks=[early_stopping])"
   ]
  },
  {
   "cell_type": "code",
   "execution_count": 10,
   "metadata": {},
   "outputs": [
    {
     "data": {
      "text/plain": [
       "dict_keys(['loss', 'mae', 'val_loss', 'val_mae'])"
      ]
     },
     "execution_count": 10,
     "metadata": {},
     "output_type": "execute_result"
    }
   ],
   "source": [
    "history.history.keys()"
   ]
  },
  {
   "cell_type": "code",
   "execution_count": 11,
   "metadata": {},
   "outputs": [
    {
     "data": {
      "text/plain": [
       "<matplotlib.legend.Legend at 0x200e7eae550>"
      ]
     },
     "execution_count": 11,
     "metadata": {},
     "output_type": "execute_result"
    },
    {
     "data": {
      "image/png": "[encoded data removed]",
      "text/plain": [
       "<Figure size 432x288 with 1 Axes>"
      ]
     },
     "metadata": {
      "needs_background": "light"
     },
     "output_type": "display_data"
    }
   ],
   "source": [
    "history.history.keys() #查看history中存储了哪些参数\n",
    "plt.plot(history.epoch,history.history.get('val_mae'),'r',label='val_mae') #画出随着epoch增大loss的变化图\n",
    "plt.plot(history.epoch,history.history.get('mae'),'g',label='mae')#画出随着epoch增大准确率的变化图\n",
    "plt.legend(loc=0,ncol=2)\n",
    "# plt.xlim(0,3)\n",
    "# plt.ylim(0,4)"
   ]
  },
  {
   "cell_type": "code",
   "execution_count": 12,
   "metadata": {},
   "outputs": [
    {
     "data": {
      "text/plain": [
       "<matplotlib.legend.Legend at 0x200e7f40d00>"
      ]
     },
     "execution_count": 12,
     "metadata": {},
     "output_type": "execute_result"
    },
    {
     "data": {
      "image/png": "[encoded data removed]",
      "text/plain": [
       "<Figure size 432x288 with 1 Axes>"
      ]
     },
     "metadata": {
      "needs_background": "light"
     },
     "output_type": "display_data"
    }
   ],
   "source": [
    "history.history.keys() #查看history中存储了哪些参数\n",
    "plt.plot(history.epoch,history.history.get('val_loss'),'r',label='val_loss') #画出随着epoch增大loss的变化图\n",
    "plt.plot(history.epoch,history.history.get('loss'),'g',label='loss')#画出随着epoch增大准确率的变化图\n",
    "plt.legend(loc=0,ncol=2)\n",
    "# plt.xlim(0,80)\n",
    "# plt.ylim(0,20)"
   ]
  },
  {
   "cell_type": "code",
   "execution_count": 13,
   "metadata": {},
   "outputs": [],
   "source": [
    "model_name = 'female_vidio.h5'\n",
    "tcn.save(model_name)"
   ]
  },
  {
   "cell_type": "code",
   "execution_count": null,
   "metadata": {},
   "outputs": [],
   "source": []
  }
 ],
 "metadata": {
  "kernelspec": {
   "display_name": "Python 3",
   "language": "python",
   "name": "python3"
  },
  "language_info": {
   "codemirror_mode": {
    "name": "ipython",
    "version": 3
   },
   "file_extension": ".py",
   "mimetype": "text/x-python",
   "name": "python",
   "nbconvert_exporter": "python",
   "pygments_lexer": "ipython3",
   "version": "3.8.3"
  }
 },
 "nbformat": 4,
 "nbformat_minor": 4
}
