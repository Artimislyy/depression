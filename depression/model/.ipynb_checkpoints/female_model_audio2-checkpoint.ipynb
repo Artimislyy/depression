{
 "cells": [
  {
   "cell_type": "code",
   "execution_count": 1,
   "metadata": {},
   "outputs": [],
   "source": [
    "from tensorflow.keras.callbacks import Callback\n",
    "import pandas as pd\n",
    "import random \n",
    "import numpy as np\n",
    "import math\n",
    "from matplotlib import pyplot as plt\n",
    "from matplotlib.pylab import mpl\n",
    "import tensorflow as tf\n",
    "from sklearn.preprocessing import MinMaxScaler,StandardScaler\n",
    "from tensorflow.keras import backend as K\n",
    "from tensorflow.keras.layers import LeakyReLU,Conv1D,Dense\n",
    "from tcn import TCN,tcn_full_summary\n",
    "from sklearn.metrics import mean_squared_error # 均方误差\n",
    "from tensorflow.keras.callbacks import LearningRateScheduler\n",
    "from tensorflow.keras.callbacks import EarlyStopping\n",
    "from tensorflow.keras import Input,Model,Sequential"
   ]
  },
  {
   "cell_type": "markdown",
   "metadata": {},
   "source": [
    "### Keras设置随机种子"
   ]
  },
  {
   "cell_type": "code",
   "execution_count": 2,
   "metadata": {},
   "outputs": [],
   "source": [
    "my_seed = 666\n",
    "np.random.seed(my_seed)\n",
    "random.seed(my_seed)\n",
    "tf.random.set_seed(my_seed)"
   ]
  },
  {
   "cell_type": "code",
   "execution_count": 3,
   "metadata": {},
   "outputs": [],
   "source": [
    "female_train_audio_path = 'H:/data/audio_data/female_train_D_feature/female_train_D_audio.csv'\n",
    "female_dev_audio_path = 'H:/dev_data/audio_data/female_dev_D_feature/female_dev_D_audio.csv'\n",
    "female_dev_audio_path2 = 'H:/dev_data/audio_data/female_dev_ND_feature/female_dev_ND_audio.csv'\n",
    "female_train_audio_path2 = 'H:/data/audio_data/female_train_ND_feature/female_train_ND_audio.csv'\n",
    "\n",
    "male_train_audio_path = 'H:/data/audio_data/male_train_D_feature/male_train_D_audio.csv'\n",
    "male_dev_audio_path = 'H:/dev_data/audio_data/male_dev_D_feature/male_dev_D_audio.csv'\n",
    "male_dev_audio_path2 = 'H:/dev_data/audio_data/male_dev_ND_feature/male_dev_ND_audio.csv'\n",
    "male_train_audio_path2 = 'H:/data/audio_data/male_train_ND_feature/male_train_ND_audio.csv'\n",
    "\n",
    "df1 = pd.read_csv(female_train_audio_path,index_col=0)\n",
    "df2 = pd.read_csv(female_dev_audio_path,index_col=0)\n",
    "df3 = pd.read_csv(female_dev_audio_path2,index_col=0)\n",
    "df4 = pd.read_csv(female_train_audio_path2,index_col=0)\n",
    "\n",
    "df5 = pd.read_csv(male_train_audio_path,index_col=0)\n",
    "df6 = pd.read_csv(male_dev_audio_path,index_col=0)\n",
    "df7 = pd.read_csv(male_dev_audio_path2,index_col=0)\n",
    "df8 = pd.read_csv(male_train_audio_path2,index_col=0)\n",
    "\n",
    "df = pd.concat([df,df2,df3,df4,df5,df6,df7,df8],ignore_index=True)\n",
    "df = df.sample(frac=1.0).reset_index(drop=True)"
   ]
  },
  {
   "cell_type": "code",
   "execution_count": null,
   "metadata": {},
   "outputs": [],
   "source": []
  },
  {
   "cell_type": "code",
   "execution_count": null,
   "metadata": {},
   "outputs": [],
   "source": []
  },
  {
   "cell_type": "code",
   "execution_count": null,
   "metadata": {},
   "outputs": [],
   "source": []
  },
  {
   "cell_type": "code",
   "execution_count": null,
   "metadata": {},
   "outputs": [],
   "source": []
  },
  {
   "cell_type": "code",
   "execution_count": 4,
   "metadata": {},
   "outputs": [
    {
     "data": {
      "text/plain": [
       "((578, 6374), (108, 6374), (104, 6374), (100, 6374))"
      ]
     },
     "execution_count": 4,
     "metadata": {},
     "output_type": "execute_result"
    }
   ],
   "source": [
    "df.shape,df4.shape,df5.shape,df8.shape"
   ]
  },
  {
   "cell_type": "code",
   "execution_count": 5,
   "metadata": {},
   "outputs": [
    {
     "data": {
      "text/plain": [
       "((42, 6374), (42, 6374), (40, 6374), (40, 6374))"
      ]
     },
     "execution_count": 5,
     "metadata": {},
     "output_type": "execute_result"
    }
   ],
   "source": [
    "df2.shape,df3.shape,df6.shape,df7.shape"
   ]
  },
  {
   "cell_type": "markdown",
   "metadata": {},
   "source": [
    "### 对数据进行归一化"
   ]
  },
  {
   "cell_type": "code",
   "execution_count": 6,
   "metadata": {},
   "outputs": [],
   "source": [
    "len1 = int(df.shape[0]*0.9)\n",
    "train=df[:len1]\n",
    "test=df[len1:]\n",
    "#不对y进行归一化\n",
    "X_Train=train.iloc[:,:-1]\n",
    "Y_train=train.iloc[:,-1:]\n",
    "X_Test=test.iloc[:,:-1]\n",
    "Y_test=test.iloc[:,-1:]"
   ]
  },
  {
   "cell_type": "code",
   "execution_count": 7,
   "metadata": {},
   "outputs": [],
   "source": [
    "# 标准化\n",
    "scaler = StandardScaler().fit(X_Train)\n",
    "X_train = pd.DataFrame(scaler.transform(X_Train))\n",
    "X_test = pd.DataFrame(scaler.transform(X_Test))\n",
    "# #归一化\n",
    "# df = df.iloc[:,:-1]\n",
    "# scaler = MinMaxScaler(feature_range=(-1,1)).fit(df)\n",
    "# X_train=pd.DataFrame(scaler.fit_transform(X_Train))\n",
    "# X_test=pd.DataFrame(scaler.transform(X_Test))"
   ]
  },
  {
   "cell_type": "code",
   "execution_count": 8,
   "metadata": {},
   "outputs": [],
   "source": [
    "# x_train = X_train\n",
    "# y_train = Y_train\n",
    "# x_test = X_test\n",
    "# y_test = Y_test"
   ]
  },
  {
   "cell_type": "markdown",
   "metadata": {},
   "source": [
    "### 转换为3维数据 [samples, timesteps, features]"
   ]
  },
  {
   "cell_type": "code",
   "execution_count": 9,
   "metadata": {},
   "outputs": [],
   "source": [
    "source_x_train=X_train\n",
    "source_x_test=X_test\n",
    "x_train=X_train.values.reshape([X_train.shape[0],1,X_train.shape[1]]) \n",
    "x_test=X_test.values.reshape([X_test.shape[0],1,X_test.shape[1]])  \n",
    "y_train=Y_train.values\n",
    "y_test=Y_test.values"
   ]
  },
  {
   "cell_type": "code",
   "execution_count": 10,
   "metadata": {},
   "outputs": [
    {
     "data": {
      "text/plain": [
       "((520, 1, 6373), (520, 1), (58, 1, 6373), (58, 1))"
      ]
     },
     "execution_count": 10,
     "metadata": {},
     "output_type": "execute_result"
    }
   ],
   "source": [
    "x_train.shape,y_train.shape,x_test.shape,y_test.shape"
   ]
  },
  {
   "cell_type": "markdown",
   "metadata": {},
   "source": [
    "### 构造TCN模型"
   ]
  },
  {
   "cell_type": "code",
   "execution_count": 11,
   "metadata": {},
   "outputs": [
    {
     "name": "stdout",
     "output_type": "stream",
     "text": [
      "Model: \"sequential\"\n",
      "_________________________________________________________________\n",
      "Layer (type)                 Output Shape              Param #   \n",
      "=================================================================\n",
      "tcn (TCN)                    (None, 32)                623040    \n",
      "_________________________________________________________________\n",
      "dense (Dense)                (None, 1)                 33        \n",
      "=================================================================\n",
      "Total params: 623,073\n",
      "Trainable params: 622,689\n",
      "Non-trainable params: 384\n",
      "_________________________________________________________________\n"
     ]
    }
   ],
   "source": [
    "batch_size=None\n",
    "timesteps=x_train.shape[1]\n",
    "input_dim=x_train.shape[2] #输入维数\n",
    "tcn = Sequential()\n",
    "input_layer =Input(batch_shape=(batch_size,timesteps,input_dim))\n",
    "tcn.add(input_layer)\n",
    "tcn.add(TCN(nb_filters=32, #在卷积层中使用的过滤器数。可以是列表。\n",
    "        kernel_size=2, #在每个卷积层中使用的内核大小。\n",
    "        nb_stacks=1,   #要使用的残差块的堆栈数。\n",
    "        dilations=[2 ** i for i in range(3)], #扩张列表。示例为：[1、2、4、8、16、32、64]。\n",
    "        #用于卷积层中的填充,值为'causal' 或'same'。\n",
    "        #“causal”将产生因果（膨胀的）卷积，即output[t]不依赖于input[t+1：]。当对不能违反时间顺序的时序信号建模时有用。\n",
    "        #“same”代表保留边界处的卷积结果，通常会导致输出shape与输入shape相同。\n",
    "        padding='causal',\n",
    "        use_skip_connections=True, #是否要添加从输入到每个残差块的跳过连接。\n",
    "        dropout_rate=0.2, #在0到1之间浮动。要下降的输入单位的分数。\n",
    "        return_sequences=False,#是返回输出序列中的最后一个输出还是完整序列。\n",
    "        activation='relu', #残差块中使用的激活函数 o = Activation(x + F(x)).\n",
    "        kernel_initializer='he_normal', #内核权重矩阵（Conv1D）的初始化程序。\n",
    "        use_batch_norm=True, #是否在残差层中使用批处理规范化。\n",
    "#         use_layer_norm=False, #是否在残差层中使用层归一化。\n",
    "        name='tcn' #使用多个TCN时，要使用唯一的名称\n",
    "        ))\n",
    "# tcn.add(tf.keras.layers.Dense(64))\n",
    "# tcn.add(tf.keras.layers.LeakyReLU(alpha=0.3))\n",
    "# tcn.add(tf.keras.layers.Dense(32))\n",
    "# tcn.add(tf.keras.layers.LeakyReLU(alpha=0.3))\n",
    "# tcn.add(tf.keras.layers.Dropout(rate=0.3))\n",
    "# tcn.add(tf.keras.layers.Dense(8))\n",
    "# tcn.add(tf.keras.layers.LeakyReLU())\n",
    "tcn.add(tf.keras.layers.Dense(1))\n",
    "# tcn.add(tf.keras.layers.LeakyReLU(alpha=0.3))\n",
    "tcn.compile('adam', loss='mse', metrics=['mae'])\n",
    "tcn.summary()"
   ]
  },
  {
   "cell_type": "markdown",
   "metadata": {},
   "source": [
    "## DNN "
   ]
  },
  {
   "cell_type": "code",
   "execution_count": 12,
   "metadata": {},
   "outputs": [],
   "source": [
    "# model=Sequential([\n",
    "# #         Dense(64,activation=tf.nn.relu,input_shape=(X_train.shape[1],)),\n",
    "#         Dense(32,activation=tf.nn.relu),\n",
    "#         Dense(1)\n",
    "#     ])\n",
    "# model.compile(loss='mse',optimizer='adam',metrics=['mae'])\n",
    "\n",
    "\n",
    "# model = Sequential()\n",
    "# #在模型中添加全连接层和激活函数\n",
    "# model.add(Dense(units=10,input_shape=(x_train.shape[1],)))\n",
    "# model.add(Activation('tanh'))\n",
    "# model.add(Dense(units=1))\n",
    "# model.add(Activation('tanh'))\n",
    "# model.compile('adam', loss='mse', metrics=['mae'])"
   ]
  },
  {
   "cell_type": "code",
   "execution_count": 13,
   "metadata": {},
   "outputs": [
    {
     "name": "stdout",
     "output_type": "stream",
     "text": [
      "Epoch 1/60\n",
      "9/9 [==============================] - 0s 32ms/step - loss: 100.3646 - mae: 8.2990 - val_loss: 72.3016 - val_mae: 6.9334\n",
      "Epoch 2/60\n",
      "9/9 [==============================] - 0s 9ms/step - loss: 84.6764 - mae: 7.6581 - val_loss: 59.8756 - val_mae: 6.2655\n",
      "Epoch 3/60\n",
      "9/9 [==============================] - 0s 9ms/step - loss: 72.7579 - mae: 7.1189 - val_loss: 60.0907 - val_mae: 6.2349\n",
      "Epoch 4/60\n",
      "9/9 [==============================] - 0s 9ms/step - loss: 64.2343 - mae: 6.7114 - val_loss: 63.7374 - val_mae: 6.5403\n",
      "Epoch 5/60\n",
      "9/9 [==============================] - 0s 9ms/step - loss: 54.7160 - mae: 6.1168 - val_loss: 54.1133 - val_mae: 5.8959\n",
      "Epoch 6/60\n",
      "9/9 [==============================] - 0s 9ms/step - loss: 48.9890 - mae: 5.8859 - val_loss: 46.8942 - val_mae: 5.4026\n",
      "Epoch 7/60\n",
      "9/9 [==============================] - 0s 9ms/step - loss: 40.8472 - mae: 5.3242 - val_loss: 45.9751 - val_mae: 5.3824\n",
      "Epoch 8/60\n",
      "9/9 [==============================] - 0s 9ms/step - loss: 34.3575 - mae: 4.8973 - val_loss: 41.9168 - val_mae: 5.0625\n",
      "Epoch 9/60\n",
      "9/9 [==============================] - 0s 8ms/step - loss: 31.3670 - mae: 4.5757 - val_loss: 38.1130 - val_mae: 4.7807\n",
      "Epoch 10/60\n",
      "9/9 [==============================] - 0s 8ms/step - loss: 24.7450 - mae: 4.0908 - val_loss: 36.0572 - val_mae: 4.5780\n",
      "Epoch 11/60\n",
      "9/9 [==============================] - 0s 8ms/step - loss: 20.0700 - mae: 3.6871 - val_loss: 31.9058 - val_mae: 4.2274\n",
      "Epoch 12/60\n",
      "9/9 [==============================] - 0s 9ms/step - loss: 17.3873 - mae: 3.3852 - val_loss: 28.5679 - val_mae: 4.0869\n",
      "Epoch 13/60\n",
      "9/9 [==============================] - 0s 8ms/step - loss: 15.2474 - mae: 3.1566 - val_loss: 24.3999 - val_mae: 3.7674\n",
      "Epoch 14/60\n",
      "9/9 [==============================] - 0s 9ms/step - loss: 12.7528 - mae: 2.8590 - val_loss: 25.3029 - val_mae: 3.8371\n",
      "Epoch 15/60\n",
      "9/9 [==============================] - 0s 9ms/step - loss: 11.9356 - mae: 2.7633 - val_loss: 22.5679 - val_mae: 3.4589\n",
      "Epoch 16/60\n",
      "9/9 [==============================] - 0s 8ms/step - loss: 10.8225 - mae: 2.5998 - val_loss: 22.7144 - val_mae: 3.5046\n",
      "Epoch 17/60\n",
      "9/9 [==============================] - 0s 9ms/step - loss: 10.0059 - mae: 2.4754 - val_loss: 20.9692 - val_mae: 3.4738\n",
      "Epoch 18/60\n",
      "9/9 [==============================] - 0s 9ms/step - loss: 8.8181 - mae: 2.3640 - val_loss: 19.7128 - val_mae: 3.2724\n",
      "Epoch 19/60\n",
      "9/9 [==============================] - 0s 9ms/step - loss: 8.8744 - mae: 2.2638 - val_loss: 21.5406 - val_mae: 3.3810\n",
      "Epoch 20/60\n",
      "9/9 [==============================] - 0s 9ms/step - loss: 8.9011 - mae: 2.3612 - val_loss: 20.8093 - val_mae: 3.3180\n",
      "Epoch 21/60\n",
      "9/9 [==============================] - 0s 9ms/step - loss: 7.0426 - mae: 2.0302 - val_loss: 22.0877 - val_mae: 3.5790\n",
      "Epoch 22/60\n",
      "9/9 [==============================] - 0s 9ms/step - loss: 6.9157 - mae: 2.0538 - val_loss: 23.1173 - val_mae: 3.5948\n",
      "Epoch 23/60\n",
      "9/9 [==============================] - 0s 9ms/step - loss: 6.4261 - mae: 1.9724 - val_loss: 23.8338 - val_mae: 3.5309\n",
      "Epoch 24/60\n",
      "9/9 [==============================] - 0s 9ms/step - loss: 7.2906 - mae: 2.0813 - val_loss: 23.2318 - val_mae: 3.3363\n",
      "Epoch 25/60\n",
      "9/9 [==============================] - 0s 9ms/step - loss: 7.3538 - mae: 2.0508 - val_loss: 23.2205 - val_mae: 3.5471\n",
      "Epoch 26/60\n",
      "9/9 [==============================] - 0s 9ms/step - loss: 6.6855 - mae: 1.9907 - val_loss: 22.5289 - val_mae: 3.5369\n",
      "Epoch 27/60\n",
      "9/9 [==============================] - 0s 9ms/step - loss: 6.5828 - mae: 1.9870 - val_loss: 22.0050 - val_mae: 3.4494\n",
      "Epoch 28/60\n",
      "9/9 [==============================] - 0s 9ms/step - loss: 6.0886 - mae: 1.9201 - val_loss: 24.3404 - val_mae: 3.5283\n",
      "Epoch 29/60\n",
      "9/9 [==============================] - 0s 9ms/step - loss: 6.1488 - mae: 1.8931 - val_loss: 26.6270 - val_mae: 3.7020\n",
      "Epoch 30/60\n",
      "9/9 [==============================] - 0s 9ms/step - loss: 6.5121 - mae: 1.9658 - val_loss: 23.1874 - val_mae: 3.5224\n",
      "Epoch 31/60\n",
      "9/9 [==============================] - 0s 9ms/step - loss: 5.4031 - mae: 1.7827 - val_loss: 23.9124 - val_mae: 3.6656\n",
      "Epoch 32/60\n",
      "9/9 [==============================] - 0s 8ms/step - loss: 5.4211 - mae: 1.8006 - val_loss: 23.8097 - val_mae: 3.5979\n",
      "Epoch 33/60\n",
      "9/9 [==============================] - 0s 9ms/step - loss: 5.3956 - mae: 1.7818 - val_loss: 21.7097 - val_mae: 3.3936\n",
      "Epoch 34/60\n",
      "9/9 [==============================] - 0s 8ms/step - loss: 5.5410 - mae: 1.8363 - val_loss: 22.5896 - val_mae: 3.5286\n",
      "Epoch 35/60\n",
      "9/9 [==============================] - 0s 9ms/step - loss: 5.6346 - mae: 1.8673 - val_loss: 18.6301 - val_mae: 3.2391\n",
      "Epoch 36/60\n",
      "9/9 [==============================] - 0s 8ms/step - loss: 5.5144 - mae: 1.7916 - val_loss: 18.3603 - val_mae: 3.1797\n",
      "Epoch 37/60\n",
      "9/9 [==============================] - 0s 8ms/step - loss: 5.2133 - mae: 1.7942 - val_loss: 20.3684 - val_mae: 3.3933\n",
      "Epoch 38/60\n",
      "9/9 [==============================] - 0s 8ms/step - loss: 6.1639 - mae: 1.9737 - val_loss: 20.0503 - val_mae: 3.3845\n",
      "Epoch 39/60\n",
      "9/9 [==============================] - 0s 9ms/step - loss: 6.1318 - mae: 1.8382 - val_loss: 19.2042 - val_mae: 3.2121\n",
      "Epoch 40/60\n",
      "9/9 [==============================] - 0s 10ms/step - loss: 5.6515 - mae: 1.8131 - val_loss: 18.6441 - val_mae: 3.2429\n",
      "Epoch 41/60\n",
      "9/9 [==============================] - 0s 9ms/step - loss: 5.2567 - mae: 1.7721 - val_loss: 20.2901 - val_mae: 3.3535\n",
      "Epoch 42/60\n",
      "9/9 [==============================] - 0s 9ms/step - loss: 4.7340 - mae: 1.6964 - val_loss: 19.5926 - val_mae: 3.2688\n",
      "Epoch 43/60\n",
      "9/9 [==============================] - 0s 9ms/step - loss: 5.2269 - mae: 1.7535 - val_loss: 19.7613 - val_mae: 3.2854\n",
      "Epoch 44/60\n",
      "9/9 [==============================] - 0s 9ms/step - loss: 4.9983 - mae: 1.7438 - val_loss: 20.1233 - val_mae: 3.4013\n",
      "Epoch 45/60\n",
      "9/9 [==============================] - 0s 8ms/step - loss: 5.0353 - mae: 1.7464 - val_loss: 18.8578 - val_mae: 3.3121\n",
      "Epoch 46/60\n",
      "9/9 [==============================] - 0s 8ms/step - loss: 5.9968 - mae: 1.8369 - val_loss: 18.3073 - val_mae: 3.3379\n",
      "Epoch 47/60\n",
      "9/9 [==============================] - 0s 8ms/step - loss: 4.7343 - mae: 1.6956 - val_loss: 19.0997 - val_mae: 3.3941\n",
      "Epoch 48/60\n",
      "9/9 [==============================] - 0s 9ms/step - loss: 4.7275 - mae: 1.6647 - val_loss: 20.3020 - val_mae: 3.4412\n",
      "Epoch 49/60\n",
      "9/9 [==============================] - 0s 9ms/step - loss: 4.6621 - mae: 1.6769 - val_loss: 20.7763 - val_mae: 3.4989\n",
      "Epoch 50/60\n",
      "9/9 [==============================] - 0s 9ms/step - loss: 4.1729 - mae: 1.5785 - val_loss: 18.9104 - val_mae: 3.3933\n",
      "Epoch 51/60\n",
      "9/9 [==============================] - 0s 9ms/step - loss: 4.6599 - mae: 1.6978 - val_loss: 18.6570 - val_mae: 3.2827\n",
      "Epoch 52/60\n",
      "9/9 [==============================] - 0s 9ms/step - loss: 4.7120 - mae: 1.6522 - val_loss: 20.0046 - val_mae: 3.3502\n",
      "Epoch 53/60\n",
      "9/9 [==============================] - 0s 9ms/step - loss: 4.8942 - mae: 1.7328 - val_loss: 18.2488 - val_mae: 3.1276\n",
      "Epoch 54/60\n",
      "9/9 [==============================] - 0s 9ms/step - loss: 4.7929 - mae: 1.6835 - val_loss: 17.5897 - val_mae: 3.1641\n",
      "Epoch 55/60\n",
      "9/9 [==============================] - 0s 9ms/step - loss: 4.8960 - mae: 1.6879 - val_loss: 15.8784 - val_mae: 2.9455\n",
      "Epoch 56/60\n",
      "9/9 [==============================] - 0s 9ms/step - loss: 3.7898 - mae: 1.5468 - val_loss: 15.6012 - val_mae: 2.9464\n",
      "Epoch 57/60\n",
      "9/9 [==============================] - 0s 9ms/step - loss: 4.1592 - mae: 1.5960 - val_loss: 19.3323 - val_mae: 3.2830\n",
      "Epoch 58/60\n",
      "9/9 [==============================] - 0s 8ms/step - loss: 4.9060 - mae: 1.7276 - val_loss: 19.9513 - val_mae: 3.3910\n",
      "Epoch 59/60\n",
      "9/9 [==============================] - 0s 9ms/step - loss: 4.2855 - mae: 1.5800 - val_loss: 16.5253 - val_mae: 3.0421\n",
      "Epoch 60/60\n",
      "9/9 [==============================] - 0s 9ms/step - loss: 4.7856 - mae: 1.6857 - val_loss: 16.0613 - val_mae: 3.0254\n"
     ]
    }
   ],
   "source": [
    "history=tcn.fit(x_train,y_train,validation_data=(x_test,y_test),epochs=60,batch_size=64)"
   ]
  },
  {
   "cell_type": "code",
   "execution_count": 14,
   "metadata": {},
   "outputs": [
    {
     "data": {
      "text/plain": [
       "dict_keys(['loss', 'mae', 'val_loss', 'val_mae'])"
      ]
     },
     "execution_count": 14,
     "metadata": {},
     "output_type": "execute_result"
    }
   ],
   "source": [
    "history.history.keys()"
   ]
  },
  {
   "cell_type": "code",
   "execution_count": 15,
   "metadata": {},
   "outputs": [
    {
     "data": {
      "text/plain": [
       "<matplotlib.legend.Legend at 0x2ddcaa0b460>"
      ]
     },
     "execution_count": 15,
     "metadata": {},
     "output_type": "execute_result"
    },
    {
     "data": {
      "image/png": "[encoded data removed]",
      "text/plain": [
       "<Figure size 432x288 with 1 Axes>"
      ]
     },
     "metadata": {
      "needs_background": "light"
     },
     "output_type": "display_data"
    }
   ],
   "source": [
    "history.history.keys() #查看history中存储了哪些参数\n",
    "plt.plot(history.epoch,history.history.get('val_mae'),'r',label='val_mae') #画出随着epoch增大loss的变化图\n",
    "plt.plot(history.epoch,history.history.get('mae'),'g',label='mae')#画出随着epoch增大准确率的变化图\n",
    "plt.legend(loc=0,ncol=2)\n",
    "# plt.xlim(0,3)\n",
    "# plt.ylim(0,4)"
   ]
  },
  {
   "cell_type": "code",
   "execution_count": 16,
   "metadata": {},
   "outputs": [
    {
     "data": {
      "text/plain": [
       "<matplotlib.legend.Legend at 0x2ddca823d30>"
      ]
     },
     "execution_count": 16,
     "metadata": {},
     "output_type": "execute_result"
    },
    {
     "data": {
      "image/png": "[encoded data removed]",
      "text/plain": [
       "<Figure size 432x288 with 1 Axes>"
      ]
     },
     "metadata": {
      "needs_background": "light"
     },
     "output_type": "display_data"
    }
   ],
   "source": [
    "history.history.keys() #查看history中存储了哪些参数\n",
    "plt.plot(history.epoch,history.history.get('val_loss'),'r',label='val_loss') #画出随着epoch增大loss的变化图\n",
    "plt.plot(history.epoch,history.history.get('loss'),'g',label='loss')#画出随着epoch增大准确率的变化图\n",
    "plt.legend(loc=0,ncol=2)\n",
    "# plt.xlim(0,80)\n",
    "# plt.ylim(0,20)"
   ]
  },
  {
   "cell_type": "code",
   "execution_count": 17,
   "metadata": {},
   "outputs": [
    {
     "name": "stdout",
     "output_type": "stream",
     "text": [
      "2/2 [==============================] - 0s 984us/step - loss: 16.0613 - mae: 3.0254\n"
     ]
    },
    {
     "data": {
      "text/plain": [
       "[16.061323165893555, 3.0253727436065674]"
      ]
     },
     "execution_count": 17,
     "metadata": {},
     "output_type": "execute_result"
    }
   ],
   "source": [
    "score_test = tcn.evaluate(x_test,y_test)\n",
    "score_test"
   ]
  },
  {
   "cell_type": "code",
   "execution_count": 18,
   "metadata": {},
   "outputs": [],
   "source": [
    "real_predict = tcn.predict(x_test)\n",
    "real_y = y_test\n",
    "real_y = real_y.reshape(len(real_y),1)\n",
    "real_predict = real_predict.reshape(len(real_predict),1)"
   ]
  },
  {
   "cell_type": "code",
   "execution_count": 19,
   "metadata": {
    "scrolled": false
   },
   "outputs": [
    {
     "name": "stdout",
     "output_type": "stream",
     "text": [
      "58\n",
      "[9.] [11.094341]\n",
      "[11.] [5.835779]\n",
      "[11.] [9.0794115]\n",
      "[19.] [9.918121]\n",
      "[9.] [10.303144]\n",
      "[8.] [10.861293]\n",
      "[19.] [7.8213463]\n",
      "[19.] [9.060865]\n",
      "48\n"
     ]
    }
   ],
   "source": [
    "sum1 = 0\n",
    "print(real_y.shape[0])\n",
    "for i in range(real_y.shape[0]):\n",
    "#     print(real_y[i],real_predict[i])\n",
    "    if(real_y[i]>=10 and real_predict[i]>=10):\n",
    "        sum1 = sum1 + 1\n",
    "    if(real_y[i]<10 and real_predict[i]<10):\n",
    "        sum1 = sum1 + 1\n",
    "    if(real_y[i]<10 and real_predict[i]>10):\n",
    "        print(real_y[i],real_predict[i])\n",
    "    if(real_y[i]>10 and real_predict[i]<10):\n",
    "        print(real_y[i],real_predict[i])\n",
    "print(sum1)"
   ]
  }
 ],
 "metadata": {
  "kernelspec": {
   "display_name": "Python 3",
   "language": "python",
   "name": "python3"
  },
  "language_info": {
   "codemirror_mode": {
    "name": "ipython",
    "version": 3
   },
   "file_extension": ".py",
   "mimetype": "text/x-python",
   "name": "python",
   "nbconvert_exporter": "python",
   "pygments_lexer": "ipython3",
   "version": "3.8.3"
  }
 },
 "nbformat": 4,
 "nbformat_minor": 4
}
