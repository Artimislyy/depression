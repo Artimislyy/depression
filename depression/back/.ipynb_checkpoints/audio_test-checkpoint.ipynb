{
 "cells": [
  {
   "cell_type": "code",
   "execution_count": 1,
   "metadata": {},
   "outputs": [],
   "source": [
    "from tensorflow.keras.callbacks import Callback\n",
    "import pandas as pd\n",
    "import random \n",
    "import numpy as np\n",
    "import math\n",
    "from matplotlib import pyplot as plt\n",
    "from matplotlib.pylab import mpl\n",
    "import tensorflow as tf\n",
    "from sklearn.preprocessing import MinMaxScaler,StandardScaler\n",
    "from tensorflow.keras import backend as K\n",
    "from tensorflow.keras.layers import LeakyReLU,Conv1D,Dense\n",
    "from tcn import TCN,tcn_full_summary\n",
    "from sklearn.metrics import mean_squared_error # 均方误差\n",
    "from tensorflow.keras.callbacks import LearningRateScheduler\n",
    "from tensorflow.keras.callbacks import EarlyStopping\n",
    "from tensorflow.keras import Input,Model,Sequential"
   ]
  },
  {
   "cell_type": "code",
   "execution_count": 2,
   "metadata": {},
   "outputs": [],
   "source": [
    "tcn = tf.keras.models.load_model('audio_3.h5',custom_objects={'TCN':TCN})"
   ]
  },
  {
   "cell_type": "code",
   "execution_count": null,
   "metadata": {},
   "outputs": [],
   "source": []
  },
  {
   "cell_type": "code",
   "execution_count": 3,
   "metadata": {},
   "outputs": [],
   "source": [
    "path = 'H:/test_data/audio_data/test_audio.csv'\n",
    "df = pd.read_csv(path,index_col=0)"
   ]
  },
  {
   "cell_type": "code",
   "execution_count": 4,
   "metadata": {},
   "outputs": [],
   "source": [
    "X_Test=df.iloc[:,:-1]\n",
    "Y_test=df.iloc[:,-1:]"
   ]
  },
  {
   "cell_type": "code",
   "execution_count": 5,
   "metadata": {},
   "outputs": [],
   "source": [
    "df = df.iloc[:,:-1]\n",
    "scaler = MinMaxScaler(feature_range=(0,1)).fit(df)\n",
    "X_test=pd.DataFrame(scaler.transform(X_Test))"
   ]
  },
  {
   "cell_type": "code",
   "execution_count": 6,
   "metadata": {},
   "outputs": [],
   "source": [
    "x_test=X_test.values.reshape([X_test.shape[0],1,X_test.shape[1]])  \n",
    "y_test=Y_test.values"
   ]
  },
  {
   "cell_type": "code",
   "execution_count": 7,
   "metadata": {},
   "outputs": [
    {
     "data": {
      "text/plain": [
       "((47, 1, 6373), (47, 1))"
      ]
     },
     "execution_count": 7,
     "metadata": {},
     "output_type": "execute_result"
    }
   ],
   "source": [
    "x_test.shape,y_test.shape"
   ]
  },
  {
   "cell_type": "code",
   "execution_count": 8,
   "metadata": {},
   "outputs": [
    {
     "name": "stdout",
     "output_type": "stream",
     "text": [
      "2/2 [==============================] - 0s 2ms/step - loss: 47.6933 - mean_absolute_error: 5.5015\n"
     ]
    },
    {
     "data": {
      "text/plain": [
       "[47.69326400756836, 5.501529693603516]"
      ]
     },
     "execution_count": 8,
     "metadata": {},
     "output_type": "execute_result"
    }
   ],
   "source": [
    "score_test = tcn.evaluate(x_test,y_test)\n",
    "score_test"
   ]
  },
  {
   "cell_type": "code",
   "execution_count": 9,
   "metadata": {},
   "outputs": [],
   "source": [
    "real_predict = tcn.predict(x_test)\n",
    "real_y = y_test\n",
    "real_y = real_y.reshape(len(real_y),1)\n",
    "real_predict = real_predict.reshape(len(real_predict),1)"
   ]
  },
  {
   "cell_type": "code",
   "execution_count": 10,
   "metadata": {},
   "outputs": [
    {
     "name": "stdout",
     "output_type": "stream",
     "text": [
      "47\n",
      "[22] [1.834277]\n",
      "[15] [7.1645684]\n",
      "[21] [8.688597]\n",
      "[18] [8.006741]\n",
      "[18] [6.842385]\n",
      "[13] [8.351104]\n",
      "[12] [3.694841]\n",
      "[15] [8.145391]\n",
      "[17] [7.5177383]\n",
      "[12] [4.4488916]\n",
      "[17] [2.5518973]\n",
      "[17] [3.2847142]\n",
      "[3] [11.87073]\n",
      "32\n"
     ]
    }
   ],
   "source": [
    "sum1 = 0\n",
    "print(real_y.shape[0])\n",
    "for i in range(real_y.shape[0]):\n",
    "#     print(real_y[i],real_predict[i])\n",
    "    if(real_y[i]>=10 and real_predict[i]>=10):\n",
    "        sum1 = sum1 + 1\n",
    "    if(real_y[i]<10 and real_predict[i]<10):\n",
    "        sum1 = sum1 + 1\n",
    "    if(real_y[i]<10 and real_predict[i]>10):\n",
    "        print(real_y[i],real_predict[i])\n",
    "    if(real_y[i]>10 and real_predict[i]<10):\n",
    "        print(real_y[i],real_predict[i])\n",
    "print(sum1)"
   ]
  },
  {
   "cell_type": "code",
   "execution_count": null,
   "metadata": {},
   "outputs": [],
   "source": []
  }
 ],
 "metadata": {
  "kernelspec": {
   "display_name": "Python 3 (ipykernel)",
   "language": "python",
   "name": "python3"
  },
  "language_info": {
   "codemirror_mode": {
    "name": "ipython",
    "version": 3
   },
   "file_extension": ".py",
   "mimetype": "text/x-python",
   "name": "python",
   "nbconvert_exporter": "python",
   "pygments_lexer": "ipython3",
   "version": "3.9.7"
  }
 },
 "nbformat": 4,
 "nbformat_minor": 4
}
